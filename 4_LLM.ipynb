{
  "cells": [
    {
      "cell_type": "markdown",
      "metadata": {
        "id": "cyY8zet1EyLl"
      },
      "source": [
        "# Downloading Libraries"
      ]
    },
    {
      "cell_type": "code",
      "execution_count": 1,
      "metadata": {
        "id": "XCXGHdnZEyLv",
        "outputId": "216f94dd-66e0-4fbb-9c49-9c370d2ec566"
      },
      "outputs": [
        {
          "name": "stdout",
          "output_type": "stream",
          "text": [
            "Requirement already satisfied: nltk in /Users/apple/miniconda3/envs/mlp/lib/python3.8/site-packages (3.8.1)\n",
            "Requirement already satisfied: click in /Users/apple/miniconda3/envs/mlp/lib/python3.8/site-packages (from nltk) (8.1.7)\n",
            "Requirement already satisfied: joblib in /Users/apple/miniconda3/envs/mlp/lib/python3.8/site-packages (from nltk) (1.3.2)\n",
            "Requirement already satisfied: regex>=2021.8.3 in /Users/apple/miniconda3/envs/mlp/lib/python3.8/site-packages (from nltk) (2023.12.25)\n",
            "Requirement already satisfied: tqdm in /Users/apple/miniconda3/envs/mlp/lib/python3.8/site-packages (from nltk) (4.66.1)\n",
            "Requirement already satisfied: vaderSentiment in /Users/apple/miniconda3/envs/mlp/lib/python3.8/site-packages (3.3.2)\n",
            "Requirement already satisfied: requests in /Users/apple/miniconda3/envs/mlp/lib/python3.8/site-packages (from vaderSentiment) (2.31.0)\n",
            "Requirement already satisfied: charset-normalizer<4,>=2 in /Users/apple/miniconda3/envs/mlp/lib/python3.8/site-packages (from requests->vaderSentiment) (3.3.2)\n",
            "Requirement already satisfied: idna<4,>=2.5 in /Users/apple/miniconda3/envs/mlp/lib/python3.8/site-packages (from requests->vaderSentiment) (3.6)\n",
            "Requirement already satisfied: urllib3<3,>=1.21.1 in /Users/apple/miniconda3/envs/mlp/lib/python3.8/site-packages (from requests->vaderSentiment) (2.1.0)\n",
            "Requirement already satisfied: certifi>=2017.4.17 in /Users/apple/miniconda3/envs/mlp/lib/python3.8/site-packages (from requests->vaderSentiment) (2023.11.17)\n",
            "Requirement already satisfied: pytrends in /Users/apple/miniconda3/envs/mlp/lib/python3.8/site-packages (4.9.2)\n",
            "Requirement already satisfied: requests>=2.0 in /Users/apple/miniconda3/envs/mlp/lib/python3.8/site-packages (from pytrends) (2.31.0)\n",
            "Requirement already satisfied: pandas>=0.25 in /Users/apple/miniconda3/envs/mlp/lib/python3.8/site-packages (from pytrends) (2.0.3)\n",
            "Requirement already satisfied: lxml in /Users/apple/miniconda3/envs/mlp/lib/python3.8/site-packages (from pytrends) (4.9.4)\n",
            "Requirement already satisfied: python-dateutil>=2.8.2 in /Users/apple/miniconda3/envs/mlp/lib/python3.8/site-packages (from pandas>=0.25->pytrends) (2.8.2)\n",
            "Requirement already satisfied: pytz>=2020.1 in /Users/apple/miniconda3/envs/mlp/lib/python3.8/site-packages (from pandas>=0.25->pytrends) (2023.3.post1)\n",
            "Requirement already satisfied: tzdata>=2022.1 in /Users/apple/miniconda3/envs/mlp/lib/python3.8/site-packages (from pandas>=0.25->pytrends) (2023.3)\n",
            "Requirement already satisfied: numpy>=1.20.3 in /Users/apple/miniconda3/envs/mlp/lib/python3.8/site-packages (from pandas>=0.25->pytrends) (1.24.4)\n",
            "Requirement already satisfied: charset-normalizer<4,>=2 in /Users/apple/miniconda3/envs/mlp/lib/python3.8/site-packages (from requests>=2.0->pytrends) (3.3.2)\n",
            "Requirement already satisfied: idna<4,>=2.5 in /Users/apple/miniconda3/envs/mlp/lib/python3.8/site-packages (from requests>=2.0->pytrends) (3.6)\n",
            "Requirement already satisfied: urllib3<3,>=1.21.1 in /Users/apple/miniconda3/envs/mlp/lib/python3.8/site-packages (from requests>=2.0->pytrends) (2.1.0)\n",
            "Requirement already satisfied: certifi>=2017.4.17 in /Users/apple/miniconda3/envs/mlp/lib/python3.8/site-packages (from requests>=2.0->pytrends) (2023.11.17)\n",
            "Requirement already satisfied: six>=1.5 in /Users/apple/miniconda3/envs/mlp/lib/python3.8/site-packages (from python-dateutil>=2.8.2->pandas>=0.25->pytrends) (1.16.0)\n",
            "Requirement already satisfied: textblob in /Users/apple/miniconda3/envs/mlp/lib/python3.8/site-packages (0.17.1)\n",
            "Requirement already satisfied: nltk>=3.1 in /Users/apple/miniconda3/envs/mlp/lib/python3.8/site-packages (from textblob) (3.8.1)\n",
            "Requirement already satisfied: click in /Users/apple/miniconda3/envs/mlp/lib/python3.8/site-packages (from nltk>=3.1->textblob) (8.1.7)\n",
            "Requirement already satisfied: joblib in /Users/apple/miniconda3/envs/mlp/lib/python3.8/site-packages (from nltk>=3.1->textblob) (1.3.2)\n",
            "Requirement already satisfied: regex>=2021.8.3 in /Users/apple/miniconda3/envs/mlp/lib/python3.8/site-packages (from nltk>=3.1->textblob) (2023.12.25)\n",
            "Requirement already satisfied: tqdm in /Users/apple/miniconda3/envs/mlp/lib/python3.8/site-packages (from nltk>=3.1->textblob) (4.66.1)\n",
            "Requirement already satisfied: wordcloud in /Users/apple/miniconda3/envs/mlp/lib/python3.8/site-packages (1.9.3)\n",
            "Requirement already satisfied: numpy>=1.6.1 in /Users/apple/miniconda3/envs/mlp/lib/python3.8/site-packages (from wordcloud) (1.24.4)\n",
            "Requirement already satisfied: pillow in /Users/apple/miniconda3/envs/mlp/lib/python3.8/site-packages (from wordcloud) (10.1.0)\n",
            "Requirement already satisfied: matplotlib in /Users/apple/miniconda3/envs/mlp/lib/python3.8/site-packages (from wordcloud) (3.7.4)\n",
            "Requirement already satisfied: contourpy>=1.0.1 in /Users/apple/miniconda3/envs/mlp/lib/python3.8/site-packages (from matplotlib->wordcloud) (1.1.1)\n",
            "Requirement already satisfied: cycler>=0.10 in /Users/apple/miniconda3/envs/mlp/lib/python3.8/site-packages (from matplotlib->wordcloud) (0.12.1)\n",
            "Requirement already satisfied: fonttools>=4.22.0 in /Users/apple/miniconda3/envs/mlp/lib/python3.8/site-packages (from matplotlib->wordcloud) (4.47.0)\n",
            "Requirement already satisfied: kiwisolver>=1.0.1 in /Users/apple/miniconda3/envs/mlp/lib/python3.8/site-packages (from matplotlib->wordcloud) (1.4.5)\n",
            "Requirement already satisfied: packaging>=20.0 in /Users/apple/miniconda3/envs/mlp/lib/python3.8/site-packages (from matplotlib->wordcloud) (23.2)\n",
            "Requirement already satisfied: pyparsing>=2.3.1 in /Users/apple/miniconda3/envs/mlp/lib/python3.8/site-packages (from matplotlib->wordcloud) (3.1.1)\n",
            "Requirement already satisfied: python-dateutil>=2.7 in /Users/apple/miniconda3/envs/mlp/lib/python3.8/site-packages (from matplotlib->wordcloud) (2.8.2)\n",
            "Requirement already satisfied: importlib-resources>=3.2.0 in /Users/apple/miniconda3/envs/mlp/lib/python3.8/site-packages (from matplotlib->wordcloud) (6.1.1)\n",
            "Requirement already satisfied: zipp>=3.1.0 in /Users/apple/miniconda3/envs/mlp/lib/python3.8/site-packages (from importlib-resources>=3.2.0->matplotlib->wordcloud) (3.17.0)\n",
            "Requirement already satisfied: six>=1.5 in /Users/apple/miniconda3/envs/mlp/lib/python3.8/site-packages (from python-dateutil>=2.7->matplotlib->wordcloud) (1.16.0)\n",
            "Requirement already satisfied: gensim in /Users/apple/miniconda3/envs/mlp/lib/python3.8/site-packages (4.3.2)\n",
            "Requirement already satisfied: numpy>=1.18.5 in /Users/apple/miniconda3/envs/mlp/lib/python3.8/site-packages (from gensim) (1.24.4)\n",
            "Requirement already satisfied: scipy>=1.7.0 in /Users/apple/miniconda3/envs/mlp/lib/python3.8/site-packages (from gensim) (1.10.1)\n",
            "Requirement already satisfied: smart-open>=1.8.1 in /Users/apple/miniconda3/envs/mlp/lib/python3.8/site-packages (from gensim) (6.4.0)\n",
            "Requirement already satisfied: seaborn in /Users/apple/miniconda3/envs/mlp/lib/python3.8/site-packages (0.13.0)\n",
            "Requirement already satisfied: numpy!=1.24.0,>=1.20 in /Users/apple/miniconda3/envs/mlp/lib/python3.8/site-packages (from seaborn) (1.24.4)\n",
            "Requirement already satisfied: pandas>=1.2 in /Users/apple/miniconda3/envs/mlp/lib/python3.8/site-packages (from seaborn) (2.0.3)\n",
            "Requirement already satisfied: matplotlib!=3.6.1,>=3.3 in /Users/apple/miniconda3/envs/mlp/lib/python3.8/site-packages (from seaborn) (3.7.4)\n",
            "Requirement already satisfied: contourpy>=1.0.1 in /Users/apple/miniconda3/envs/mlp/lib/python3.8/site-packages (from matplotlib!=3.6.1,>=3.3->seaborn) (1.1.1)\n",
            "Requirement already satisfied: cycler>=0.10 in /Users/apple/miniconda3/envs/mlp/lib/python3.8/site-packages (from matplotlib!=3.6.1,>=3.3->seaborn) (0.12.1)\n",
            "Requirement already satisfied: fonttools>=4.22.0 in /Users/apple/miniconda3/envs/mlp/lib/python3.8/site-packages (from matplotlib!=3.6.1,>=3.3->seaborn) (4.47.0)\n",
            "Requirement already satisfied: kiwisolver>=1.0.1 in /Users/apple/miniconda3/envs/mlp/lib/python3.8/site-packages (from matplotlib!=3.6.1,>=3.3->seaborn) (1.4.5)\n",
            "Requirement already satisfied: packaging>=20.0 in /Users/apple/miniconda3/envs/mlp/lib/python3.8/site-packages (from matplotlib!=3.6.1,>=3.3->seaborn) (23.2)\n",
            "Requirement already satisfied: pillow>=6.2.0 in /Users/apple/miniconda3/envs/mlp/lib/python3.8/site-packages (from matplotlib!=3.6.1,>=3.3->seaborn) (10.1.0)\n",
            "Requirement already satisfied: pyparsing>=2.3.1 in /Users/apple/miniconda3/envs/mlp/lib/python3.8/site-packages (from matplotlib!=3.6.1,>=3.3->seaborn) (3.1.1)\n",
            "Requirement already satisfied: python-dateutil>=2.7 in /Users/apple/miniconda3/envs/mlp/lib/python3.8/site-packages (from matplotlib!=3.6.1,>=3.3->seaborn) (2.8.2)\n",
            "Requirement already satisfied: importlib-resources>=3.2.0 in /Users/apple/miniconda3/envs/mlp/lib/python3.8/site-packages (from matplotlib!=3.6.1,>=3.3->seaborn) (6.1.1)\n",
            "Requirement already satisfied: pytz>=2020.1 in /Users/apple/miniconda3/envs/mlp/lib/python3.8/site-packages (from pandas>=1.2->seaborn) (2023.3.post1)\n",
            "Requirement already satisfied: tzdata>=2022.1 in /Users/apple/miniconda3/envs/mlp/lib/python3.8/site-packages (from pandas>=1.2->seaborn) (2023.3)\n",
            "Requirement already satisfied: zipp>=3.1.0 in /Users/apple/miniconda3/envs/mlp/lib/python3.8/site-packages (from importlib-resources>=3.2.0->matplotlib!=3.6.1,>=3.3->seaborn) (3.17.0)\n",
            "Requirement already satisfied: six>=1.5 in /Users/apple/miniconda3/envs/mlp/lib/python3.8/site-packages (from python-dateutil>=2.7->matplotlib!=3.6.1,>=3.3->seaborn) (1.16.0)\n",
            "Requirement already satisfied: TextBlob in /Users/apple/miniconda3/envs/mlp/lib/python3.8/site-packages (0.17.1)\n",
            "Requirement already satisfied: nltk>=3.1 in /Users/apple/miniconda3/envs/mlp/lib/python3.8/site-packages (from TextBlob) (3.8.1)\n",
            "Requirement already satisfied: click in /Users/apple/miniconda3/envs/mlp/lib/python3.8/site-packages (from nltk>=3.1->TextBlob) (8.1.7)\n",
            "Requirement already satisfied: joblib in /Users/apple/miniconda3/envs/mlp/lib/python3.8/site-packages (from nltk>=3.1->TextBlob) (1.3.2)\n",
            "Requirement already satisfied: regex>=2021.8.3 in /Users/apple/miniconda3/envs/mlp/lib/python3.8/site-packages (from nltk>=3.1->TextBlob) (2023.12.25)\n",
            "Requirement already satisfied: tqdm in /Users/apple/miniconda3/envs/mlp/lib/python3.8/site-packages (from nltk>=3.1->TextBlob) (4.66.1)\n",
            "Requirement already satisfied: joblib in /Users/apple/miniconda3/envs/mlp/lib/python3.8/site-packages (1.3.2)\n",
            "Collecting transformers\n",
            "  Downloading transformers-4.36.2-py3-none-any.whl.metadata (126 kB)\n",
            "\u001b[2K     \u001b[90m━━━━━━━━━━━━━━━━━━━━━━━━━━━━━━━━━━━━━━━\u001b[0m \u001b[32m126.8/126.8 kB\u001b[0m \u001b[31m2.3 MB/s\u001b[0m eta \u001b[36m0:00:00\u001b[0ma \u001b[36m0:00:01\u001b[0m\n",
            "\u001b[?25hCollecting filelock (from transformers)\n",
            "  Downloading filelock-3.13.1-py3-none-any.whl.metadata (2.8 kB)\n",
            "Collecting huggingface-hub<1.0,>=0.19.3 (from transformers)\n",
            "  Downloading huggingface_hub-0.20.1-py3-none-any.whl.metadata (12 kB)\n",
            "Requirement already satisfied: numpy>=1.17 in /Users/apple/miniconda3/envs/mlp/lib/python3.8/site-packages (from transformers) (1.24.4)\n",
            "Requirement already satisfied: packaging>=20.0 in /Users/apple/miniconda3/envs/mlp/lib/python3.8/site-packages (from transformers) (23.2)\n",
            "Collecting pyyaml>=5.1 (from transformers)\n",
            "  Downloading PyYAML-6.0.1.tar.gz (125 kB)\n",
            "\u001b[2K     \u001b[90m━━━━━━━━━━━━━━━━━━━━━━━━━━━━━━━━━━━━━━\u001b[0m \u001b[32m125.2/125.2 kB\u001b[0m \u001b[31m10.6 MB/s\u001b[0m eta \u001b[36m0:00:00\u001b[0m\n",
            "\u001b[?25h  Installing build dependencies ... \u001b[?25ldone\n",
            "\u001b[?25h  Getting requirements to build wheel ... \u001b[?25ldone\n",
            "\u001b[?25h  Preparing metadata (pyproject.toml) ... \u001b[?25ldone\n",
            "\u001b[?25hRequirement already satisfied: regex!=2019.12.17 in /Users/apple/miniconda3/envs/mlp/lib/python3.8/site-packages (from transformers) (2023.12.25)\n",
            "Requirement already satisfied: requests in /Users/apple/miniconda3/envs/mlp/lib/python3.8/site-packages (from transformers) (2.31.0)\n",
            "Collecting tokenizers<0.19,>=0.14 (from transformers)\n",
            "  Downloading tokenizers-0.15.0-cp38-cp38-macosx_11_0_arm64.whl.metadata (6.7 kB)\n",
            "Collecting safetensors>=0.3.1 (from transformers)\n",
            "  Downloading safetensors-0.4.1-cp38-cp38-macosx_11_0_arm64.whl.metadata (3.8 kB)\n",
            "Requirement already satisfied: tqdm>=4.27 in /Users/apple/miniconda3/envs/mlp/lib/python3.8/site-packages (from transformers) (4.66.1)\n",
            "Collecting fsspec>=2023.5.0 (from huggingface-hub<1.0,>=0.19.3->transformers)\n",
            "  Downloading fsspec-2023.12.2-py3-none-any.whl.metadata (6.8 kB)\n",
            "Requirement already satisfied: typing-extensions>=3.7.4.3 in /Users/apple/miniconda3/envs/mlp/lib/python3.8/site-packages (from huggingface-hub<1.0,>=0.19.3->transformers) (4.9.0)\n",
            "Requirement already satisfied: charset-normalizer<4,>=2 in /Users/apple/miniconda3/envs/mlp/lib/python3.8/site-packages (from requests->transformers) (3.3.2)\n",
            "Requirement already satisfied: idna<4,>=2.5 in /Users/apple/miniconda3/envs/mlp/lib/python3.8/site-packages (from requests->transformers) (3.6)\n",
            "Requirement already satisfied: urllib3<3,>=1.21.1 in /Users/apple/miniconda3/envs/mlp/lib/python3.8/site-packages (from requests->transformers) (2.1.0)\n",
            "Requirement already satisfied: certifi>=2017.4.17 in /Users/apple/miniconda3/envs/mlp/lib/python3.8/site-packages (from requests->transformers) (2023.11.17)\n",
            "Downloading transformers-4.36.2-py3-none-any.whl (8.2 MB)\n",
            "\u001b[2K   \u001b[90m━━━━━━━━━━━━━━━━━━━━━━━━━━━━━━━━━━━━━━━━\u001b[0m \u001b[32m8.2/8.2 MB\u001b[0m \u001b[31m21.5 MB/s\u001b[0m eta \u001b[36m0:00:00\u001b[0m00:01\u001b[0m00:01\u001b[0m\n",
            "\u001b[?25hDownloading huggingface_hub-0.20.1-py3-none-any.whl (330 kB)\n",
            "\u001b[2K   \u001b[90m━━━━━━━━━━━━━━━━━━━━━━━━━━━━━━━━━━━━━━━━\u001b[0m \u001b[32m330.1/330.1 kB\u001b[0m \u001b[31m23.4 MB/s\u001b[0m eta \u001b[36m0:00:00\u001b[0m\n",
            "\u001b[?25hDownloading safetensors-0.4.1-cp38-cp38-macosx_11_0_arm64.whl (427 kB)\n",
            "\u001b[2K   \u001b[90m━━━━━━━━━━━━━━━━━━━━━━━━━━━━━━━━━━━━━━━━\u001b[0m \u001b[32m427.4/427.4 kB\u001b[0m \u001b[31m28.1 MB/s\u001b[0m eta \u001b[36m0:00:00\u001b[0m\n",
            "\u001b[?25hDownloading tokenizers-0.15.0-cp38-cp38-macosx_11_0_arm64.whl (2.5 MB)\n",
            "\u001b[2K   \u001b[90m━━━━━━━━━━━━━━━━━━━━━━━━━━━━━━━━━━━━━━━━\u001b[0m \u001b[32m2.5/2.5 MB\u001b[0m \u001b[31m28.7 MB/s\u001b[0m eta \u001b[36m0:00:00\u001b[0ma \u001b[36m0:00:01\u001b[0m\n",
            "\u001b[?25hDownloading filelock-3.13.1-py3-none-any.whl (11 kB)\n",
            "Downloading fsspec-2023.12.2-py3-none-any.whl (168 kB)\n",
            "\u001b[2K   \u001b[90m━━━━━━━━━━━━━━━━━━━━━━━━━━━━━━━━━━━━━━━━\u001b[0m \u001b[32m169.0/169.0 kB\u001b[0m \u001b[31m19.1 MB/s\u001b[0m eta \u001b[36m0:00:00\u001b[0m\n",
            "\u001b[?25hBuilding wheels for collected packages: pyyaml\n",
            "  Building wheel for pyyaml (pyproject.toml) ... \u001b[?25ldone\n",
            "\u001b[?25h  Created wheel for pyyaml: filename=PyYAML-6.0.1-cp38-cp38-macosx_11_0_arm64.whl size=45365 sha256=6076c056af96dbb0464b7d400508fbb5a2f907d2684fd72d1ce7f97aa01b94a8\n",
            "  Stored in directory: /Users/apple/Library/Caches/pip/wheels/77/54/77/68b3079bd1d88cb070513c3935d9f7e32c70ad69368375308d\n",
            "Successfully built pyyaml\n",
            "Installing collected packages: safetensors, pyyaml, fsspec, filelock, huggingface-hub, tokenizers, transformers\n",
            "Successfully installed filelock-3.13.1 fsspec-2023.12.2 huggingface-hub-0.20.1 pyyaml-6.0.1 safetensors-0.4.1 tokenizers-0.15.0 transformers-4.36.2\n"
          ]
        }
      ],
      "source": [
        "! pip install nltk\n",
        "! pip install vaderSentiment\n",
        "! pip install pytrends\n",
        "! pip install textblob\n",
        "! pip install wordcloud\n",
        "! pip install gensim\n",
        "! pip install seaborn\n",
        "! pip install TextBlob\n",
        "! pip install joblib\n",
        "! pip install transformers"
      ]
    },
    {
      "cell_type": "markdown",
      "metadata": {
        "id": "L8yiI0t5EyMA"
      },
      "source": [
        "# Importing Libraries"
      ]
    },
    {
      "cell_type": "code",
      "execution_count": 2,
      "metadata": {
        "id": "xyk8-Pf4EyMC"
      },
      "outputs": [
        {
          "name": "stderr",
          "output_type": "stream",
          "text": [
            "/Users/apple/miniconda3/envs/mlp/lib/python3.8/site-packages/tqdm/auto.py:21: TqdmWarning: IProgress not found. Please update jupyter and ipywidgets. See https://ipywidgets.readthedocs.io/en/stable/user_install.html\n",
            "  from .autonotebook import tqdm as notebook_tqdm\n",
            "None of PyTorch, TensorFlow >= 2.0, or Flax have been found. Models won't be available and only tokenizers, configuration and file/data utilities can be used.\n"
          ]
        },
        {
          "ename": "ModuleNotFoundError",
          "evalue": "No module named 'tensorflow'",
          "output_type": "error",
          "traceback": [
            "\u001b[0;31m---------------------------------------------------------------------------\u001b[0m",
            "\u001b[0;31mModuleNotFoundError\u001b[0m                       Traceback (most recent call last)",
            "Cell \u001b[0;32mIn[2], line 5\u001b[0m\n\u001b[1;32m      3\u001b[0m \u001b[38;5;28;01mfrom\u001b[39;00m \u001b[38;5;21;01msklearn\u001b[39;00m\u001b[38;5;21;01m.\u001b[39;00m\u001b[38;5;21;01mmodel_selection\u001b[39;00m \u001b[38;5;28;01mimport\u001b[39;00m train_test_split\n\u001b[1;32m      4\u001b[0m \u001b[38;5;28;01mfrom\u001b[39;00m \u001b[38;5;21;01mtransformers\u001b[39;00m \u001b[38;5;28;01mimport\u001b[39;00m BertTokenizer, TFBertForSequenceClassification\n\u001b[0;32m----> 5\u001b[0m \u001b[38;5;28;01mfrom\u001b[39;00m \u001b[38;5;21;01mtensorflow\u001b[39;00m\u001b[38;5;21;01m.\u001b[39;00m\u001b[38;5;21;01mkeras\u001b[39;00m\u001b[38;5;21;01m.\u001b[39;00m\u001b[38;5;21;01moptimizers\u001b[39;00m \u001b[38;5;28;01mimport\u001b[39;00m Adam\n\u001b[1;32m      6\u001b[0m \u001b[38;5;28;01mimport\u001b[39;00m \u001b[38;5;21;01mtensorflow\u001b[39;00m \u001b[38;5;28;01mas\u001b[39;00m \u001b[38;5;21;01mtf\u001b[39;00m\n",
            "\u001b[0;31mModuleNotFoundError\u001b[0m: No module named 'tensorflow'"
          ]
        }
      ],
      "source": [
        "import pandas as pd\n",
        "import numpy as np\n",
        "from sklearn.model_selection import train_test_split\n",
        "from transformers import BertTokenizer, TFBertForSequenceClassification\n",
        "from tensorflow.keras.optimizers import Adam\n",
        "import tensorflow as tf"
      ]
    },
    {
      "cell_type": "markdown",
      "metadata": {
        "id": "Jr3Tun3tEyMD"
      },
      "source": [
        "# Importing Dataset"
      ]
    },
    {
      "cell_type": "code",
      "execution_count": null,
      "metadata": {
        "colab": {
          "base_uri": "https://localhost:8080/"
        },
        "id": "OFFVRiCPFCiz",
        "outputId": "7691bfd1-ff1b-43ce-bb4d-665ffe2fd869"
      },
      "outputs": [
        {
          "name": "stdout",
          "output_type": "stream",
          "text": [
            "Drive already mounted at /content/drive; to attempt to forcibly remount, call drive.mount(\"/content/drive\", force_remount=True).\n"
          ]
        }
      ],
      "source": [
        "from google.colab import drive\n",
        "drive.mount('/content/drive')"
      ]
    },
    {
      "cell_type": "code",
      "execution_count": null,
      "metadata": {
        "colab": {
          "base_uri": "https://localhost:8080/",
          "height": 272
        },
        "id": "_XXS1KlwEyME",
        "outputId": "b1628c98-793e-4f46-cb6a-014372a64fff"
      },
      "outputs": [
        {
          "data": {
            "text/html": [
              "\n",
              "  <div id=\"df-1cb06c86-d958-4c33-9b64-a80321ba0c11\" class=\"colab-df-container\">\n",
              "    <div>\n",
              "<style scoped>\n",
              "    .dataframe tbody tr th:only-of-type {\n",
              "        vertical-align: middle;\n",
              "    }\n",
              "\n",
              "    .dataframe tbody tr th {\n",
              "        vertical-align: top;\n",
              "    }\n",
              "\n",
              "    .dataframe thead th {\n",
              "        text-align: right;\n",
              "    }\n",
              "</style>\n",
              "<table border=\"1\" class=\"dataframe\">\n",
              "  <thead>\n",
              "    <tr style=\"text-align: right;\">\n",
              "      <th></th>\n",
              "      <th>listing_id</th>\n",
              "      <th>reviewer_name</th>\n",
              "      <th>comments</th>\n",
              "      <th>cleaned_comments</th>\n",
              "      <th>polarity</th>\n",
              "      <th>sentiment</th>\n",
              "    </tr>\n",
              "  </thead>\n",
              "  <tbody>\n",
              "    <tr>\n",
              "      <th>0</th>\n",
              "      <td>4326511</td>\n",
              "      <td>Laura</td>\n",
              "      <td>Das Zimmer und das Bad waren sauber und komfor...</td>\n",
              "      <td>da zimmer und da bad waren sauber und komforta...</td>\n",
              "      <td>-0.7</td>\n",
              "      <td>negative</td>\n",
              "    </tr>\n",
              "    <tr>\n",
              "      <th>1</th>\n",
              "      <td>603032069621870277</td>\n",
              "      <td>Fatima</td>\n",
              "      <td>Bad service</td>\n",
              "      <td>bad servic</td>\n",
              "      <td>-0.7</td>\n",
              "      <td>negative</td>\n",
              "    </tr>\n",
              "    <tr>\n",
              "      <th>2</th>\n",
              "      <td>8629818</td>\n",
              "      <td>Andrew</td>\n",
              "      <td>In Paul's absence, Lucy and Jack were amazing ...</td>\n",
              "      <td>paul absenc luci jack amaz host brthe secret g...</td>\n",
              "      <td>-0.4</td>\n",
              "      <td>negative</td>\n",
              "    </tr>\n",
              "    <tr>\n",
              "      <th>3</th>\n",
              "      <td>25012636</td>\n",
              "      <td>Kate</td>\n",
              "      <td>I used Nicholas’ room as a base whilst I was i...</td>\n",
              "      <td>use nicholas’ room base whilst properti busi f...</td>\n",
              "      <td>-0.8</td>\n",
              "      <td>negative</td>\n",
              "    </tr>\n",
              "    <tr>\n",
              "      <th>4</th>\n",
              "      <td>12725143</td>\n",
              "      <td>Yvon</td>\n",
              "      <td>You can’t go wrong with the townhouse. It has ...</td>\n",
              "      <td>can’t go wrong townhous amen need place spotle...</td>\n",
              "      <td>-0.5</td>\n",
              "      <td>negative</td>\n",
              "    </tr>\n",
              "  </tbody>\n",
              "</table>\n",
              "</div>\n",
              "    <div class=\"colab-df-buttons\">\n",
              "\n",
              "  <div class=\"colab-df-container\">\n",
              "    <button class=\"colab-df-convert\" onclick=\"convertToInteractive('df-1cb06c86-d958-4c33-9b64-a80321ba0c11')\"\n",
              "            title=\"Convert this dataframe to an interactive table.\"\n",
              "            style=\"display:none;\">\n",
              "\n",
              "  <svg xmlns=\"http://www.w3.org/2000/svg\" height=\"24px\" viewBox=\"0 -960 960 960\">\n",
              "    <path d=\"M120-120v-720h720v720H120Zm60-500h600v-160H180v160Zm220 220h160v-160H400v160Zm0 220h160v-160H400v160ZM180-400h160v-160H180v160Zm440 0h160v-160H620v160ZM180-180h160v-160H180v160Zm440 0h160v-160H620v160Z\"/>\n",
              "  </svg>\n",
              "    </button>\n",
              "\n",
              "  <style>\n",
              "    .colab-df-container {\n",
              "      display:flex;\n",
              "      gap: 12px;\n",
              "    }\n",
              "\n",
              "    .colab-df-convert {\n",
              "      background-color: #E8F0FE;\n",
              "      border: none;\n",
              "      border-radius: 50%;\n",
              "      cursor: pointer;\n",
              "      display: none;\n",
              "      fill: #1967D2;\n",
              "      height: 32px;\n",
              "      padding: 0 0 0 0;\n",
              "      width: 32px;\n",
              "    }\n",
              "\n",
              "    .colab-df-convert:hover {\n",
              "      background-color: #E2EBFA;\n",
              "      box-shadow: 0px 1px 2px rgba(60, 64, 67, 0.3), 0px 1px 3px 1px rgba(60, 64, 67, 0.15);\n",
              "      fill: #174EA6;\n",
              "    }\n",
              "\n",
              "    .colab-df-buttons div {\n",
              "      margin-bottom: 4px;\n",
              "    }\n",
              "\n",
              "    [theme=dark] .colab-df-convert {\n",
              "      background-color: #3B4455;\n",
              "      fill: #D2E3FC;\n",
              "    }\n",
              "\n",
              "    [theme=dark] .colab-df-convert:hover {\n",
              "      background-color: #434B5C;\n",
              "      box-shadow: 0px 1px 3px 1px rgba(0, 0, 0, 0.15);\n",
              "      filter: drop-shadow(0px 1px 2px rgba(0, 0, 0, 0.3));\n",
              "      fill: #FFFFFF;\n",
              "    }\n",
              "  </style>\n",
              "\n",
              "    <script>\n",
              "      const buttonEl =\n",
              "        document.querySelector('#df-1cb06c86-d958-4c33-9b64-a80321ba0c11 button.colab-df-convert');\n",
              "      buttonEl.style.display =\n",
              "        google.colab.kernel.accessAllowed ? 'block' : 'none';\n",
              "\n",
              "      async function convertToInteractive(key) {\n",
              "        const element = document.querySelector('#df-1cb06c86-d958-4c33-9b64-a80321ba0c11');\n",
              "        const dataTable =\n",
              "          await google.colab.kernel.invokeFunction('convertToInteractive',\n",
              "                                                    [key], {});\n",
              "        if (!dataTable) return;\n",
              "\n",
              "        const docLinkHtml = 'Like what you see? Visit the ' +\n",
              "          '<a target=\"_blank\" href=https://colab.research.google.com/notebooks/data_table.ipynb>data table notebook</a>'\n",
              "          + ' to learn more about interactive tables.';\n",
              "        element.innerHTML = '';\n",
              "        dataTable['output_type'] = 'display_data';\n",
              "        await google.colab.output.renderOutput(dataTable, element);\n",
              "        const docLink = document.createElement('div');\n",
              "        docLink.innerHTML = docLinkHtml;\n",
              "        element.appendChild(docLink);\n",
              "      }\n",
              "    </script>\n",
              "  </div>\n",
              "\n",
              "\n",
              "<div id=\"df-6a53cb49-21e7-45f8-a305-59df559dfef3\">\n",
              "  <button class=\"colab-df-quickchart\" onclick=\"quickchart('df-6a53cb49-21e7-45f8-a305-59df559dfef3')\"\n",
              "            title=\"Suggest charts\"\n",
              "            style=\"display:none;\">\n",
              "\n",
              "<svg xmlns=\"http://www.w3.org/2000/svg\" height=\"24px\"viewBox=\"0 0 24 24\"\n",
              "     width=\"24px\">\n",
              "    <g>\n",
              "        <path d=\"M19 3H5c-1.1 0-2 .9-2 2v14c0 1.1.9 2 2 2h14c1.1 0 2-.9 2-2V5c0-1.1-.9-2-2-2zM9 17H7v-7h2v7zm4 0h-2V7h2v10zm4 0h-2v-4h2v4z\"/>\n",
              "    </g>\n",
              "</svg>\n",
              "  </button>\n",
              "\n",
              "<style>\n",
              "  .colab-df-quickchart {\n",
              "      --bg-color: #E8F0FE;\n",
              "      --fill-color: #1967D2;\n",
              "      --hover-bg-color: #E2EBFA;\n",
              "      --hover-fill-color: #174EA6;\n",
              "      --disabled-fill-color: #AAA;\n",
              "      --disabled-bg-color: #DDD;\n",
              "  }\n",
              "\n",
              "  [theme=dark] .colab-df-quickchart {\n",
              "      --bg-color: #3B4455;\n",
              "      --fill-color: #D2E3FC;\n",
              "      --hover-bg-color: #434B5C;\n",
              "      --hover-fill-color: #FFFFFF;\n",
              "      --disabled-bg-color: #3B4455;\n",
              "      --disabled-fill-color: #666;\n",
              "  }\n",
              "\n",
              "  .colab-df-quickchart {\n",
              "    background-color: var(--bg-color);\n",
              "    border: none;\n",
              "    border-radius: 50%;\n",
              "    cursor: pointer;\n",
              "    display: none;\n",
              "    fill: var(--fill-color);\n",
              "    height: 32px;\n",
              "    padding: 0;\n",
              "    width: 32px;\n",
              "  }\n",
              "\n",
              "  .colab-df-quickchart:hover {\n",
              "    background-color: var(--hover-bg-color);\n",
              "    box-shadow: 0 1px 2px rgba(60, 64, 67, 0.3), 0 1px 3px 1px rgba(60, 64, 67, 0.15);\n",
              "    fill: var(--button-hover-fill-color);\n",
              "  }\n",
              "\n",
              "  .colab-df-quickchart-complete:disabled,\n",
              "  .colab-df-quickchart-complete:disabled:hover {\n",
              "    background-color: var(--disabled-bg-color);\n",
              "    fill: var(--disabled-fill-color);\n",
              "    box-shadow: none;\n",
              "  }\n",
              "\n",
              "  .colab-df-spinner {\n",
              "    border: 2px solid var(--fill-color);\n",
              "    border-color: transparent;\n",
              "    border-bottom-color: var(--fill-color);\n",
              "    animation:\n",
              "      spin 1s steps(1) infinite;\n",
              "  }\n",
              "\n",
              "  @keyframes spin {\n",
              "    0% {\n",
              "      border-color: transparent;\n",
              "      border-bottom-color: var(--fill-color);\n",
              "      border-left-color: var(--fill-color);\n",
              "    }\n",
              "    20% {\n",
              "      border-color: transparent;\n",
              "      border-left-color: var(--fill-color);\n",
              "      border-top-color: var(--fill-color);\n",
              "    }\n",
              "    30% {\n",
              "      border-color: transparent;\n",
              "      border-left-color: var(--fill-color);\n",
              "      border-top-color: var(--fill-color);\n",
              "      border-right-color: var(--fill-color);\n",
              "    }\n",
              "    40% {\n",
              "      border-color: transparent;\n",
              "      border-right-color: var(--fill-color);\n",
              "      border-top-color: var(--fill-color);\n",
              "    }\n",
              "    60% {\n",
              "      border-color: transparent;\n",
              "      border-right-color: var(--fill-color);\n",
              "    }\n",
              "    80% {\n",
              "      border-color: transparent;\n",
              "      border-right-color: var(--fill-color);\n",
              "      border-bottom-color: var(--fill-color);\n",
              "    }\n",
              "    90% {\n",
              "      border-color: transparent;\n",
              "      border-bottom-color: var(--fill-color);\n",
              "    }\n",
              "  }\n",
              "</style>\n",
              "\n",
              "  <script>\n",
              "    async function quickchart(key) {\n",
              "      const quickchartButtonEl =\n",
              "        document.querySelector('#' + key + ' button');\n",
              "      quickchartButtonEl.disabled = true;  // To prevent multiple clicks.\n",
              "      quickchartButtonEl.classList.add('colab-df-spinner');\n",
              "      try {\n",
              "        const charts = await google.colab.kernel.invokeFunction(\n",
              "            'suggestCharts', [key], {});\n",
              "      } catch (error) {\n",
              "        console.error('Error during call to suggestCharts:', error);\n",
              "      }\n",
              "      quickchartButtonEl.classList.remove('colab-df-spinner');\n",
              "      quickchartButtonEl.classList.add('colab-df-quickchart-complete');\n",
              "    }\n",
              "    (() => {\n",
              "      let quickchartButtonEl =\n",
              "        document.querySelector('#df-6a53cb49-21e7-45f8-a305-59df559dfef3 button');\n",
              "      quickchartButtonEl.style.display =\n",
              "        google.colab.kernel.accessAllowed ? 'block' : 'none';\n",
              "    })();\n",
              "  </script>\n",
              "</div>\n",
              "    </div>\n",
              "  </div>\n"
            ],
            "text/plain": [
              "           listing_id reviewer_name  \\\n",
              "0             4326511         Laura   \n",
              "1  603032069621870277        Fatima   \n",
              "2             8629818        Andrew   \n",
              "3            25012636          Kate   \n",
              "4            12725143          Yvon   \n",
              "\n",
              "                                            comments  \\\n",
              "0  Das Zimmer und das Bad waren sauber und komfor...   \n",
              "1                                        Bad service   \n",
              "2  In Paul's absence, Lucy and Jack were amazing ...   \n",
              "3  I used Nicholas’ room as a base whilst I was i...   \n",
              "4  You can’t go wrong with the townhouse. It has ...   \n",
              "\n",
              "                                    cleaned_comments  polarity sentiment  \n",
              "0  da zimmer und da bad waren sauber und komforta...      -0.7  negative  \n",
              "1                                         bad servic      -0.7  negative  \n",
              "2  paul absenc luci jack amaz host brthe secret g...      -0.4  negative  \n",
              "3  use nicholas’ room base whilst properti busi f...      -0.8  negative  \n",
              "4  can’t go wrong townhous amen need place spotle...      -0.5  negative  "
            ]
          },
          "execution_count": 29,
          "metadata": {},
          "output_type": "execute_result"
        }
      ],
      "source": [
        "df = pd.read_csv('/content/drive/MyDrive/Datasets/Cleaned Data/reviews.csv')\n",
        "df.head()"
      ]
    },
    {
      "cell_type": "markdown",
      "metadata": {
        "id": "7cI4VbakEyMG"
      },
      "source": [
        "# Date Preprocessing"
      ]
    },
    {
      "cell_type": "code",
      "execution_count": null,
      "metadata": {
        "colab": {
          "base_uri": "https://localhost:8080/"
        },
        "id": "sK259sr4EyMH",
        "outputId": "8da8ed91-d0c0-4ebf-cbc3-07c813b638b1"
      },
      "outputs": [
        {
          "data": {
            "text/plain": [
              "listing_id            0\n",
              "reviewer_name        63\n",
              "comments             63\n",
              "cleaned_comments    209\n",
              "polarity            163\n",
              "sentiment           163\n",
              "dtype: int64"
            ]
          },
          "execution_count": 30,
          "metadata": {},
          "output_type": "execute_result"
        }
      ],
      "source": [
        "df.isnull().sum()"
      ]
    },
    {
      "cell_type": "code",
      "execution_count": null,
      "metadata": {
        "colab": {
          "base_uri": "https://localhost:8080/"
        },
        "id": "9rPMJPD8EyMM",
        "outputId": "fc028e0e-f52c-402d-f4a6-5e354694a9b5"
      },
      "outputs": [
        {
          "data": {
            "text/plain": [
              "listing_id          0\n",
              "reviewer_name       0\n",
              "comments            0\n",
              "cleaned_comments    0\n",
              "polarity            0\n",
              "sentiment           0\n",
              "dtype: int64"
            ]
          },
          "execution_count": 31,
          "metadata": {},
          "output_type": "execute_result"
        }
      ],
      "source": [
        "# Dropping the null values\n",
        "df.dropna(inplace=True)\n",
        "df.isnull().sum()"
      ]
    },
    {
      "cell_type": "markdown",
      "metadata": {
        "id": "NdyBubdyEyMO"
      },
      "source": [
        "## **<center><u>Assessment: Experimentations (using Deep Learning)</u></center>**\n"
      ]
    },
    {
      "cell_type": "code",
      "execution_count": null,
      "metadata": {
        "id": "7ZTF2hEVEyMP"
      },
      "outputs": [],
      "source": [
        "# Initialize tokenizer\n",
        "tokenizer = BertTokenizer.from_pretrained('bert-base-uncased')"
      ]
    },
    {
      "cell_type": "code",
      "execution_count": null,
      "metadata": {
        "id": "rJEWTGhvEyMR"
      },
      "outputs": [],
      "source": [
        "# Tokenize and encode sequences in the dataset\n",
        "tokens = tokenizer.batch_encode_plus(\n",
        "    df['cleaned_comments'].tolist(),\n",
        "    max_length=128,  # You can adjust this depending on your text length\n",
        "    padding='max_length',\n",
        "    truncation=True,\n",
        "    add_special_tokens=True,\n",
        "    return_attention_mask=True,\n",
        "    return_tensors='tf'\n",
        "  )"
      ]
    },
    {
      "cell_type": "code",
      "execution_count": null,
      "metadata": {
        "id": "XKUFYaYqEyMT"
      },
      "outputs": [],
      "source": [
        "# Prepare input data\n",
        "input_ids = tokens['input_ids']\n",
        "attention_mask = tokens['attention_mask']"
      ]
    },
    {
      "cell_type": "code",
      "execution_count": null,
      "metadata": {
        "id": "qrF4_TFYEyMU"
      },
      "outputs": [],
      "source": [
        "# Prepare labels\n",
        "df['sentiment'] = df['sentiment'].astype('category')\n",
        "labels = df['sentiment'].cat.codes"
      ]
    },
    {
      "cell_type": "code",
      "execution_count": null,
      "metadata": {
        "id": "0Nq7VnWlEyMW"
      },
      "outputs": [],
      "source": [
        "input_ids_np = input_ids.numpy()\n",
        "attention_mask_np = attention_mask.numpy()\n",
        "\n",
        "labels_np = labels.to_numpy()"
      ]
    },
    {
      "cell_type": "code",
      "execution_count": null,
      "metadata": {
        "id": "tJZhqUY0EyMX"
      },
      "outputs": [],
      "source": [
        "train_input_ids, test_input_ids, train_attention_mask, test_attention_mask, train_labels, test_labels = train_test_split(\n",
        "    input_ids_np,\n",
        "    attention_mask_np,\n",
        "    labels_np,  # assuming labels_np is already a numpy array\n",
        "    test_size=0.2,\n",
        "    random_state=42\n",
        ")"
      ]
    },
    {
      "cell_type": "code",
      "execution_count": null,
      "metadata": {
        "id": "XHtOa89-FfpW"
      },
      "outputs": [],
      "source": [
        "train_input_ids = tf.convert_to_tensor(train_input_ids)\n",
        "train_attention_mask = tf.convert_to_tensor(train_attention_mask)\n",
        "train_labels = tf.convert_to_tensor(train_labels)\n",
        "\n",
        "test_input_ids = tf.convert_to_tensor(test_input_ids)\n",
        "test_attention_mask = tf.convert_to_tensor(test_attention_mask)\n",
        "test_labels = tf.convert_to_tensor(test_labels)"
      ]
    },
    {
      "cell_type": "code",
      "execution_count": null,
      "metadata": {
        "id": "bsfTESkaFySb"
      },
      "outputs": [],
      "source": [
        "train_labels = tf.cast(train_labels, dtype=tf.int32)"
      ]
    },
    {
      "cell_type": "code",
      "execution_count": null,
      "metadata": {
        "colab": {
          "base_uri": "https://localhost:8080/"
        },
        "id": "uiVlWmAxFz8C",
        "outputId": "39faa7a1-5390-4c69-e6c5-90193bcb4475"
      },
      "outputs": [
        {
          "name": "stderr",
          "output_type": "stream",
          "text": [
            "All PyTorch model weights were used when initializing TFBertForSequenceClassification.\n",
            "\n",
            "Some weights or buffers of the TF 2.0 model TFBertForSequenceClassification were not initialized from the PyTorch model and are newly initialized: ['classifier.weight', 'classifier.bias']\n",
            "You should probably TRAIN this model on a down-stream task to be able to use it for predictions and inference.\n"
          ]
        }
      ],
      "source": [
        "model = TFBertForSequenceClassification.from_pretrained(\n",
        "    'bert-base-uncased', num_labels=len(df['sentiment'].cat.categories))"
      ]
    },
    {
      "cell_type": "code",
      "execution_count": null,
      "metadata": {
        "id": "HiSNBBKhF8J2"
      },
      "outputs": [],
      "source": [
        "optimizer = Adam(learning_rate=2e-5, epsilon=1e-08)\n",
        "model.compile(optimizer='adam',\n",
        "              loss='sparse_categorical_crossentropy', metrics=['accuracy'])"
      ]
    },
    {
      "cell_type": "code",
      "execution_count": null,
      "metadata": {
        "colab": {
          "base_uri": "https://localhost:8080/"
        },
        "id": "ilXYtkH0F9jS",
        "outputId": "013154a8-dc13-4389-947c-f425fec7e1f7"
      },
      "outputs": [
        {
          "name": "stdout",
          "output_type": "stream",
          "text": [
            "Epoch 1/10\n",
            "261/261 [==============================] - 252s 803ms/step - loss: 1.1124 - accuracy: 0.3397 - val_loss: 1.0986 - val_accuracy: 0.3136\n",
            "Epoch 2/10\n",
            "261/261 [==============================] - 209s 800ms/step - loss: 1.0986 - accuracy: 0.3413 - val_loss: 1.0986 - val_accuracy: 0.3136\n",
            "Epoch 3/10\n",
            "261/261 [==============================] - 209s 800ms/step - loss: 1.0986 - accuracy: 0.3413 - val_loss: 1.0986 - val_accuracy: 0.3136\n",
            "Epoch 4/10\n",
            "261/261 [==============================] - 206s 790ms/step - loss: 1.0986 - accuracy: 0.3413 - val_loss: 1.0986 - val_accuracy: 0.3136\n",
            "Epoch 5/10\n",
            "261/261 [==============================] - 209s 800ms/step - loss: 1.0986 - accuracy: 0.3413 - val_loss: 1.0986 - val_accuracy: 0.3136\n",
            "Epoch 6/10\n",
            "261/261 [==============================] - 206s 789ms/step - loss: 1.0986 - accuracy: 0.3413 - val_loss: 1.0986 - val_accuracy: 0.3136\n",
            "Epoch 7/10\n",
            "261/261 [==============================] - 206s 790ms/step - loss: 1.0986 - accuracy: 0.3413 - val_loss: 1.0986 - val_accuracy: 0.3136\n",
            "Epoch 8/10\n",
            "261/261 [==============================] - 208s 798ms/step - loss: 1.0986 - accuracy: 0.3413 - val_loss: 1.0986 - val_accuracy: 0.3136\n",
            "Epoch 9/10\n",
            "261/261 [==============================] - 206s 788ms/step - loss: 1.0986 - accuracy: 0.3413 - val_loss: 1.0986 - val_accuracy: 0.3136\n",
            "Epoch 10/10\n",
            "261/261 [==============================] - 208s 799ms/step - loss: 1.0986 - accuracy: 0.3413 - val_loss: 1.0986 - val_accuracy: 0.3136\n"
          ]
        }
      ],
      "source": [
        "history = model.fit(\n",
        "    {'input_ids': train_input_ids, 'attention_mask': train_attention_mask},\n",
        "    train_labels,\n",
        "    batch_size=32,  # Adjust based on your GPU memory\n",
        "    epochs=10,  # BERT typically requires only a few epochs\n",
        "    validation_split=0.1  # Use a part of the training set for validation\n",
        ")"
      ]
    },
    {
      "cell_type": "code",
      "execution_count": null,
      "metadata": {
        "colab": {
          "base_uri": "https://localhost:8080/"
        },
        "id": "Pkd7K1IeGAAQ",
        "outputId": "788c1950-c98c-4eb9-c9c2-8091b46fd62a"
      },
      "outputs": [
        {
          "name": "stdout",
          "output_type": "stream",
          "text": [
            "73/73 [==============================] - 22s 264ms/step - loss: 1.0986 - accuracy: 0.3272\n",
            "Test loss: 1.0986123085021973, Test accuracy: 0.3271551728248596\n"
          ]
        }
      ],
      "source": [
        "result = model.evaluate(\n",
        "    x={'input_ids': test_input_ids, 'attention_mask': test_attention_mask},\n",
        "    y=test_labels\n",
        ")\n",
        "print(f\"Test loss: {result[0]}, Test accuracy: {result[1]}\")"
      ]
    }
  ],
  "metadata": {
    "accelerator": "GPU",
    "colab": {
      "gpuType": "T4",
      "provenance": []
    },
    "kernelspec": {
      "display_name": "Python 3",
      "name": "python3"
    },
    "language_info": {
      "codemirror_mode": {
        "name": "ipython",
        "version": 3
      },
      "file_extension": ".py",
      "mimetype": "text/x-python",
      "name": "python",
      "nbconvert_exporter": "python",
      "pygments_lexer": "ipython3",
      "version": "3.8.18"
    }
  },
  "nbformat": 4,
  "nbformat_minor": 0
}
