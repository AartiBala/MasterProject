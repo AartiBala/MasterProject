{
 "cells": [
  {
   "cell_type": "markdown",
   "metadata": {},
   "source": [
    "# Downloading Libraries\n"
   ]
  },
  {
   "cell_type": "code",
   "execution_count": 26,
   "metadata": {},
   "outputs": [
    {
     "name": "stdout",
     "output_type": "stream",
     "text": [
      "Requirement already satisfied: nltk in /Users/apple/miniconda3/envs/mlp/lib/python3.8/site-packages (3.8.1)\n",
      "Requirement already satisfied: click in /Users/apple/miniconda3/envs/mlp/lib/python3.8/site-packages (from nltk) (8.1.7)\n",
      "Requirement already satisfied: joblib in /Users/apple/miniconda3/envs/mlp/lib/python3.8/site-packages (from nltk) (1.3.2)\n",
      "Requirement already satisfied: regex>=2021.8.3 in /Users/apple/miniconda3/envs/mlp/lib/python3.8/site-packages (from nltk) (2023.12.25)\n",
      "Requirement already satisfied: tqdm in /Users/apple/miniconda3/envs/mlp/lib/python3.8/site-packages (from nltk) (4.66.1)\n",
      "Requirement already satisfied: vaderSentiment in /Users/apple/miniconda3/envs/mlp/lib/python3.8/site-packages (3.3.2)\n",
      "Requirement already satisfied: requests in /Users/apple/miniconda3/envs/mlp/lib/python3.8/site-packages (from vaderSentiment) (2.31.0)\n",
      "Requirement already satisfied: charset-normalizer<4,>=2 in /Users/apple/miniconda3/envs/mlp/lib/python3.8/site-packages (from requests->vaderSentiment) (3.3.2)\n",
      "Requirement already satisfied: idna<4,>=2.5 in /Users/apple/miniconda3/envs/mlp/lib/python3.8/site-packages (from requests->vaderSentiment) (3.6)\n",
      "Requirement already satisfied: urllib3<3,>=1.21.1 in /Users/apple/miniconda3/envs/mlp/lib/python3.8/site-packages (from requests->vaderSentiment) (2.1.0)\n",
      "Requirement already satisfied: certifi>=2017.4.17 in /Users/apple/miniconda3/envs/mlp/lib/python3.8/site-packages (from requests->vaderSentiment) (2023.11.17)\n",
      "Requirement already satisfied: pytrends in /Users/apple/miniconda3/envs/mlp/lib/python3.8/site-packages (4.9.2)\n",
      "Requirement already satisfied: requests>=2.0 in /Users/apple/miniconda3/envs/mlp/lib/python3.8/site-packages (from pytrends) (2.31.0)\n",
      "Requirement already satisfied: pandas>=0.25 in /Users/apple/miniconda3/envs/mlp/lib/python3.8/site-packages (from pytrends) (2.0.3)\n",
      "Requirement already satisfied: lxml in /Users/apple/miniconda3/envs/mlp/lib/python3.8/site-packages (from pytrends) (4.9.4)\n",
      "Requirement already satisfied: python-dateutil>=2.8.2 in /Users/apple/miniconda3/envs/mlp/lib/python3.8/site-packages (from pandas>=0.25->pytrends) (2.8.2)\n",
      "Requirement already satisfied: pytz>=2020.1 in /Users/apple/miniconda3/envs/mlp/lib/python3.8/site-packages (from pandas>=0.25->pytrends) (2023.3.post1)\n",
      "Requirement already satisfied: tzdata>=2022.1 in /Users/apple/miniconda3/envs/mlp/lib/python3.8/site-packages (from pandas>=0.25->pytrends) (2023.3)\n",
      "Requirement already satisfied: numpy>=1.20.3 in /Users/apple/miniconda3/envs/mlp/lib/python3.8/site-packages (from pandas>=0.25->pytrends) (1.24.4)\n",
      "Requirement already satisfied: charset-normalizer<4,>=2 in /Users/apple/miniconda3/envs/mlp/lib/python3.8/site-packages (from requests>=2.0->pytrends) (3.3.2)\n",
      "Requirement already satisfied: idna<4,>=2.5 in /Users/apple/miniconda3/envs/mlp/lib/python3.8/site-packages (from requests>=2.0->pytrends) (3.6)\n",
      "Requirement already satisfied: urllib3<3,>=1.21.1 in /Users/apple/miniconda3/envs/mlp/lib/python3.8/site-packages (from requests>=2.0->pytrends) (2.1.0)\n",
      "Requirement already satisfied: certifi>=2017.4.17 in /Users/apple/miniconda3/envs/mlp/lib/python3.8/site-packages (from requests>=2.0->pytrends) (2023.11.17)\n",
      "Requirement already satisfied: six>=1.5 in /Users/apple/miniconda3/envs/mlp/lib/python3.8/site-packages (from python-dateutil>=2.8.2->pandas>=0.25->pytrends) (1.16.0)\n",
      "Requirement already satisfied: textblob in /Users/apple/miniconda3/envs/mlp/lib/python3.8/site-packages (0.17.1)\n",
      "Requirement already satisfied: nltk>=3.1 in /Users/apple/miniconda3/envs/mlp/lib/python3.8/site-packages (from textblob) (3.8.1)\n",
      "Requirement already satisfied: click in /Users/apple/miniconda3/envs/mlp/lib/python3.8/site-packages (from nltk>=3.1->textblob) (8.1.7)\n",
      "Requirement already satisfied: joblib in /Users/apple/miniconda3/envs/mlp/lib/python3.8/site-packages (from nltk>=3.1->textblob) (1.3.2)\n",
      "Requirement already satisfied: regex>=2021.8.3 in /Users/apple/miniconda3/envs/mlp/lib/python3.8/site-packages (from nltk>=3.1->textblob) (2023.12.25)\n",
      "Requirement already satisfied: tqdm in /Users/apple/miniconda3/envs/mlp/lib/python3.8/site-packages (from nltk>=3.1->textblob) (4.66.1)\n",
      "Requirement already satisfied: wordcloud in /Users/apple/miniconda3/envs/mlp/lib/python3.8/site-packages (1.9.3)\n",
      "Requirement already satisfied: numpy>=1.6.1 in /Users/apple/miniconda3/envs/mlp/lib/python3.8/site-packages (from wordcloud) (1.24.4)\n",
      "Requirement already satisfied: pillow in /Users/apple/miniconda3/envs/mlp/lib/python3.8/site-packages (from wordcloud) (10.1.0)\n",
      "Requirement already satisfied: matplotlib in /Users/apple/miniconda3/envs/mlp/lib/python3.8/site-packages (from wordcloud) (3.7.4)\n",
      "Requirement already satisfied: contourpy>=1.0.1 in /Users/apple/miniconda3/envs/mlp/lib/python3.8/site-packages (from matplotlib->wordcloud) (1.1.1)\n",
      "Requirement already satisfied: cycler>=0.10 in /Users/apple/miniconda3/envs/mlp/lib/python3.8/site-packages (from matplotlib->wordcloud) (0.12.1)\n",
      "Requirement already satisfied: fonttools>=4.22.0 in /Users/apple/miniconda3/envs/mlp/lib/python3.8/site-packages (from matplotlib->wordcloud) (4.47.0)\n",
      "Requirement already satisfied: kiwisolver>=1.0.1 in /Users/apple/miniconda3/envs/mlp/lib/python3.8/site-packages (from matplotlib->wordcloud) (1.4.5)\n",
      "Requirement already satisfied: packaging>=20.0 in /Users/apple/miniconda3/envs/mlp/lib/python3.8/site-packages (from matplotlib->wordcloud) (23.2)\n",
      "Requirement already satisfied: pyparsing>=2.3.1 in /Users/apple/miniconda3/envs/mlp/lib/python3.8/site-packages (from matplotlib->wordcloud) (3.1.1)\n",
      "Requirement already satisfied: python-dateutil>=2.7 in /Users/apple/miniconda3/envs/mlp/lib/python3.8/site-packages (from matplotlib->wordcloud) (2.8.2)\n",
      "Requirement already satisfied: importlib-resources>=3.2.0 in /Users/apple/miniconda3/envs/mlp/lib/python3.8/site-packages (from matplotlib->wordcloud) (6.1.1)\n",
      "Requirement already satisfied: zipp>=3.1.0 in /Users/apple/miniconda3/envs/mlp/lib/python3.8/site-packages (from importlib-resources>=3.2.0->matplotlib->wordcloud) (3.17.0)\n",
      "Requirement already satisfied: six>=1.5 in /Users/apple/miniconda3/envs/mlp/lib/python3.8/site-packages (from python-dateutil>=2.7->matplotlib->wordcloud) (1.16.0)\n",
      "Requirement already satisfied: gensim in /Users/apple/miniconda3/envs/mlp/lib/python3.8/site-packages (4.3.2)\n",
      "Requirement already satisfied: numpy>=1.18.5 in /Users/apple/miniconda3/envs/mlp/lib/python3.8/site-packages (from gensim) (1.24.4)\n",
      "Requirement already satisfied: scipy>=1.7.0 in /Users/apple/miniconda3/envs/mlp/lib/python3.8/site-packages (from gensim) (1.10.1)\n",
      "Requirement already satisfied: smart-open>=1.8.1 in /Users/apple/miniconda3/envs/mlp/lib/python3.8/site-packages (from gensim) (6.4.0)\n",
      "Requirement already satisfied: seaborn in /Users/apple/miniconda3/envs/mlp/lib/python3.8/site-packages (0.13.0)\n",
      "Requirement already satisfied: numpy!=1.24.0,>=1.20 in /Users/apple/miniconda3/envs/mlp/lib/python3.8/site-packages (from seaborn) (1.24.4)\n",
      "Requirement already satisfied: pandas>=1.2 in /Users/apple/miniconda3/envs/mlp/lib/python3.8/site-packages (from seaborn) (2.0.3)\n",
      "Requirement already satisfied: matplotlib!=3.6.1,>=3.3 in /Users/apple/miniconda3/envs/mlp/lib/python3.8/site-packages (from seaborn) (3.7.4)\n",
      "Requirement already satisfied: contourpy>=1.0.1 in /Users/apple/miniconda3/envs/mlp/lib/python3.8/site-packages (from matplotlib!=3.6.1,>=3.3->seaborn) (1.1.1)\n",
      "Requirement already satisfied: cycler>=0.10 in /Users/apple/miniconda3/envs/mlp/lib/python3.8/site-packages (from matplotlib!=3.6.1,>=3.3->seaborn) (0.12.1)\n",
      "Requirement already satisfied: fonttools>=4.22.0 in /Users/apple/miniconda3/envs/mlp/lib/python3.8/site-packages (from matplotlib!=3.6.1,>=3.3->seaborn) (4.47.0)\n",
      "Requirement already satisfied: kiwisolver>=1.0.1 in /Users/apple/miniconda3/envs/mlp/lib/python3.8/site-packages (from matplotlib!=3.6.1,>=3.3->seaborn) (1.4.5)\n",
      "Requirement already satisfied: packaging>=20.0 in /Users/apple/miniconda3/envs/mlp/lib/python3.8/site-packages (from matplotlib!=3.6.1,>=3.3->seaborn) (23.2)\n",
      "Requirement already satisfied: pillow>=6.2.0 in /Users/apple/miniconda3/envs/mlp/lib/python3.8/site-packages (from matplotlib!=3.6.1,>=3.3->seaborn) (10.1.0)\n",
      "Requirement already satisfied: pyparsing>=2.3.1 in /Users/apple/miniconda3/envs/mlp/lib/python3.8/site-packages (from matplotlib!=3.6.1,>=3.3->seaborn) (3.1.1)\n",
      "Requirement already satisfied: python-dateutil>=2.7 in /Users/apple/miniconda3/envs/mlp/lib/python3.8/site-packages (from matplotlib!=3.6.1,>=3.3->seaborn) (2.8.2)\n",
      "Requirement already satisfied: importlib-resources>=3.2.0 in /Users/apple/miniconda3/envs/mlp/lib/python3.8/site-packages (from matplotlib!=3.6.1,>=3.3->seaborn) (6.1.1)\n",
      "Requirement already satisfied: pytz>=2020.1 in /Users/apple/miniconda3/envs/mlp/lib/python3.8/site-packages (from pandas>=1.2->seaborn) (2023.3.post1)\n",
      "Requirement already satisfied: tzdata>=2022.1 in /Users/apple/miniconda3/envs/mlp/lib/python3.8/site-packages (from pandas>=1.2->seaborn) (2023.3)\n",
      "Requirement already satisfied: zipp>=3.1.0 in /Users/apple/miniconda3/envs/mlp/lib/python3.8/site-packages (from importlib-resources>=3.2.0->matplotlib!=3.6.1,>=3.3->seaborn) (3.17.0)\n",
      "Requirement already satisfied: six>=1.5 in /Users/apple/miniconda3/envs/mlp/lib/python3.8/site-packages (from python-dateutil>=2.7->matplotlib!=3.6.1,>=3.3->seaborn) (1.16.0)\n",
      "Requirement already satisfied: TextBlob in /Users/apple/miniconda3/envs/mlp/lib/python3.8/site-packages (0.17.1)\n",
      "Requirement already satisfied: nltk>=3.1 in /Users/apple/miniconda3/envs/mlp/lib/python3.8/site-packages (from TextBlob) (3.8.1)\n",
      "Requirement already satisfied: click in /Users/apple/miniconda3/envs/mlp/lib/python3.8/site-packages (from nltk>=3.1->TextBlob) (8.1.7)\n",
      "Requirement already satisfied: joblib in /Users/apple/miniconda3/envs/mlp/lib/python3.8/site-packages (from nltk>=3.1->TextBlob) (1.3.2)\n",
      "Requirement already satisfied: regex>=2021.8.3 in /Users/apple/miniconda3/envs/mlp/lib/python3.8/site-packages (from nltk>=3.1->TextBlob) (2023.12.25)\n",
      "Requirement already satisfied: tqdm in /Users/apple/miniconda3/envs/mlp/lib/python3.8/site-packages (from nltk>=3.1->TextBlob) (4.66.1)\n",
      "Requirement already satisfied: joblib in /Users/apple/miniconda3/envs/mlp/lib/python3.8/site-packages (1.3.2)\n"
     ]
    }
   ],
   "source": [
    "! pip install nltk\n",
    "! pip install vaderSentiment\n",
    "! pip install pytrends\n",
    "! pip install textblob\n",
    "! pip install wordcloud\n",
    "! pip install gensim\n",
    "! pip install seaborn\n",
    "! pip install TextBlob\n",
    "! pip install joblib"
   ]
  },
  {
   "cell_type": "markdown",
   "metadata": {},
   "source": [
    "# Importing Libraries\n"
   ]
  },
  {
   "cell_type": "code",
   "execution_count": 27,
   "metadata": {},
   "outputs": [],
   "source": [
    "import nltk\n",
    "import logging\n",
    "import numpy as np\n",
    "import pandas as pd\n",
    "import seaborn as sns\n",
    "from textblob import TextBlob\n",
    "import matplotlib.pyplot as plt\n",
    "from nltk.corpus import stopwords\n",
    "\n",
    "import re\n",
    "import string\n",
    "import joblib\n",
    "import matplotlib.pyplot as plt\n",
    "\n",
    "import warnings\n",
    "warnings.filterwarnings('ignore')"
   ]
  },
  {
   "cell_type": "code",
   "execution_count": 28,
   "metadata": {},
   "outputs": [
    {
     "name": "stderr",
     "output_type": "stream",
     "text": [
      "[nltk_data] Downloading package punkt to /Users/apple/nltk_data...\n",
      "[nltk_data]   Package punkt is already up-to-date!\n",
      "[nltk_data] Downloading package stopwords to /Users/apple/nltk_data...\n",
      "[nltk_data]   Package stopwords is already up-to-date!\n",
      "[nltk_data] Downloading package wordnet to /Users/apple/nltk_data...\n",
      "[nltk_data]   Package wordnet is already up-to-date!\n"
     ]
    },
    {
     "data": {
      "text/plain": [
       "True"
      ]
     },
     "execution_count": 28,
     "metadata": {},
     "output_type": "execute_result"
    }
   ],
   "source": [
    "# Download NLTK resources (if not already downloaded)\n",
    "nltk.download('punkt')\n",
    "nltk.download('stopwords')\n",
    "nltk.download('wordnet')\n",
    "nltk.download('wordnet', quiet=True)"
   ]
  },
  {
   "cell_type": "markdown",
   "metadata": {},
   "source": [
    "# Importing Dataset\n"
   ]
  },
  {
   "cell_type": "code",
   "execution_count": 29,
   "metadata": {},
   "outputs": [
    {
     "data": {
      "text/html": [
       "<div>\n",
       "<style scoped>\n",
       "    .dataframe tbody tr th:only-of-type {\n",
       "        vertical-align: middle;\n",
       "    }\n",
       "\n",
       "    .dataframe tbody tr th {\n",
       "        vertical-align: top;\n",
       "    }\n",
       "\n",
       "    .dataframe thead th {\n",
       "        text-align: right;\n",
       "    }\n",
       "</style>\n",
       "<table border=\"1\" class=\"dataframe\">\n",
       "  <thead>\n",
       "    <tr style=\"text-align: right;\">\n",
       "      <th></th>\n",
       "      <th>listing_id</th>\n",
       "      <th>id</th>\n",
       "      <th>date</th>\n",
       "      <th>reviewer_id</th>\n",
       "      <th>reviewer_name</th>\n",
       "      <th>comments</th>\n",
       "    </tr>\n",
       "  </thead>\n",
       "  <tbody>\n",
       "    <tr>\n",
       "      <th>0</th>\n",
       "      <td>13913</td>\n",
       "      <td>80770</td>\n",
       "      <td>2010-08-18</td>\n",
       "      <td>177109</td>\n",
       "      <td>Michael</td>\n",
       "      <td>My girlfriend and I hadn't known Alina before ...</td>\n",
       "    </tr>\n",
       "    <tr>\n",
       "      <th>1</th>\n",
       "      <td>13913</td>\n",
       "      <td>367568</td>\n",
       "      <td>2011-07-11</td>\n",
       "      <td>19835707</td>\n",
       "      <td>Mathias</td>\n",
       "      <td>Alina was a really good host. The flat is clea...</td>\n",
       "    </tr>\n",
       "    <tr>\n",
       "      <th>2</th>\n",
       "      <td>13913</td>\n",
       "      <td>529579</td>\n",
       "      <td>2011-09-13</td>\n",
       "      <td>1110304</td>\n",
       "      <td>Kristin</td>\n",
       "      <td>Alina is an amazing host. She made me feel rig...</td>\n",
       "    </tr>\n",
       "    <tr>\n",
       "      <th>3</th>\n",
       "      <td>13913</td>\n",
       "      <td>595481</td>\n",
       "      <td>2011-10-03</td>\n",
       "      <td>1216358</td>\n",
       "      <td>Camilla</td>\n",
       "      <td>Alina's place is so nice, the room is big and ...</td>\n",
       "    </tr>\n",
       "    <tr>\n",
       "      <th>4</th>\n",
       "      <td>13913</td>\n",
       "      <td>612947</td>\n",
       "      <td>2011-10-09</td>\n",
       "      <td>490840</td>\n",
       "      <td>Jorik</td>\n",
       "      <td>Nice location in Islington area, good for shor...</td>\n",
       "    </tr>\n",
       "  </tbody>\n",
       "</table>\n",
       "</div>"
      ],
      "text/plain": [
       "   listing_id      id        date  reviewer_id reviewer_name  \\\n",
       "0       13913   80770  2010-08-18       177109       Michael   \n",
       "1       13913  367568  2011-07-11     19835707       Mathias   \n",
       "2       13913  529579  2011-09-13      1110304       Kristin   \n",
       "3       13913  595481  2011-10-03      1216358       Camilla   \n",
       "4       13913  612947  2011-10-09       490840         Jorik   \n",
       "\n",
       "                                            comments  \n",
       "0  My girlfriend and I hadn't known Alina before ...  \n",
       "1  Alina was a really good host. The flat is clea...  \n",
       "2  Alina is an amazing host. She made me feel rig...  \n",
       "3  Alina's place is so nice, the room is big and ...  \n",
       "4  Nice location in Islington area, good for shor...  "
      ]
     },
     "execution_count": 29,
     "metadata": {},
     "output_type": "execute_result"
    }
   ],
   "source": [
    "df = pd.read_csv('Dataset/Uncleaned Data/clean_reviews.csv')\n",
    "df.head()"
   ]
  },
  {
   "cell_type": "markdown",
   "metadata": {},
   "source": [
    "# Data Preprocessing\n"
   ]
  },
  {
   "cell_type": "code",
   "execution_count": 30,
   "metadata": {},
   "outputs": [
    {
     "data": {
      "text/plain": [
       "Index(['listing_id', 'id', 'date', 'reviewer_id', 'reviewer_name', 'comments'], dtype='object')"
      ]
     },
     "execution_count": 30,
     "metadata": {},
     "output_type": "execute_result"
    }
   ],
   "source": [
    "df.columns"
   ]
  },
  {
   "cell_type": "code",
   "execution_count": 31,
   "metadata": {},
   "outputs": [
    {
     "data": {
      "text/plain": [
       "Index(['listing_id', 'id', 'date', 'reviewer_id', 'reviewer_name', 'comments'], dtype='object')"
      ]
     },
     "execution_count": 31,
     "metadata": {},
     "output_type": "execute_result"
    }
   ],
   "source": [
    "df.columns"
   ]
  },
  {
   "cell_type": "code",
   "execution_count": 32,
   "metadata": {},
   "outputs": [
    {
     "data": {
      "text/plain": [
       "(1581033, 6)"
      ]
     },
     "execution_count": 32,
     "metadata": {},
     "output_type": "execute_result"
    }
   ],
   "source": [
    "df.shape"
   ]
  },
  {
   "cell_type": "code",
   "execution_count": 33,
   "metadata": {},
   "outputs": [
    {
     "name": "stdout",
     "output_type": "stream",
     "text": [
      "<class 'pandas.core.frame.DataFrame'>\n",
      "RangeIndex: 1581033 entries, 0 to 1581032\n",
      "Data columns (total 6 columns):\n",
      " #   Column         Non-Null Count    Dtype \n",
      "---  ------         --------------    ----- \n",
      " 0   listing_id     1581033 non-null  int64 \n",
      " 1   id             1581033 non-null  int64 \n",
      " 2   date           1581033 non-null  object\n",
      " 3   reviewer_id    1581033 non-null  int64 \n",
      " 4   reviewer_name  1581033 non-null  object\n",
      " 5   comments       1580874 non-null  object\n",
      "dtypes: int64(3), object(3)\n",
      "memory usage: 72.4+ MB\n"
     ]
    }
   ],
   "source": [
    "df.info()"
   ]
  },
  {
   "cell_type": "code",
   "execution_count": 34,
   "metadata": {},
   "outputs": [
    {
     "data": {
      "text/html": [
       "<div>\n",
       "<style scoped>\n",
       "    .dataframe tbody tr th:only-of-type {\n",
       "        vertical-align: middle;\n",
       "    }\n",
       "\n",
       "    .dataframe tbody tr th {\n",
       "        vertical-align: top;\n",
       "    }\n",
       "\n",
       "    .dataframe thead th {\n",
       "        text-align: right;\n",
       "    }\n",
       "</style>\n",
       "<table border=\"1\" class=\"dataframe\">\n",
       "  <thead>\n",
       "    <tr style=\"text-align: right;\">\n",
       "      <th></th>\n",
       "      <th>listing_id</th>\n",
       "      <th>id</th>\n",
       "      <th>reviewer_id</th>\n",
       "    </tr>\n",
       "  </thead>\n",
       "  <tbody>\n",
       "    <tr>\n",
       "      <th>count</th>\n",
       "      <td>1.581033e+06</td>\n",
       "      <td>1.581033e+06</td>\n",
       "      <td>1.581033e+06</td>\n",
       "    </tr>\n",
       "    <tr>\n",
       "      <th>mean</th>\n",
       "      <td>1.222594e+17</td>\n",
       "      <td>3.886080e+17</td>\n",
       "      <td>1.492887e+08</td>\n",
       "    </tr>\n",
       "    <tr>\n",
       "      <th>std</th>\n",
       "      <td>2.756938e+17</td>\n",
       "      <td>3.944920e+17</td>\n",
       "      <td>1.464763e+08</td>\n",
       "    </tr>\n",
       "    <tr>\n",
       "      <th>min</th>\n",
       "      <td>1.391300e+04</td>\n",
       "      <td>2.103200e+04</td>\n",
       "      <td>4.400000e+01</td>\n",
       "    </tr>\n",
       "    <tr>\n",
       "      <th>25%</th>\n",
       "      <td>1.114422e+07</td>\n",
       "      <td>3.152755e+08</td>\n",
       "      <td>3.168621e+07</td>\n",
       "    </tr>\n",
       "    <tr>\n",
       "      <th>50%</th>\n",
       "      <td>2.337278e+07</td>\n",
       "      <td>4.316597e+17</td>\n",
       "      <td>9.604527e+07</td>\n",
       "    </tr>\n",
       "    <tr>\n",
       "      <th>75%</th>\n",
       "      <td>4.608831e+07</td>\n",
       "      <td>7.802538e+17</td>\n",
       "      <td>2.255192e+08</td>\n",
       "    </tr>\n",
       "    <tr>\n",
       "      <th>max</th>\n",
       "      <td>9.723611e+17</td>\n",
       "      <td>9.745963e+17</td>\n",
       "      <td>5.355267e+08</td>\n",
       "    </tr>\n",
       "  </tbody>\n",
       "</table>\n",
       "</div>"
      ],
      "text/plain": [
       "         listing_id            id   reviewer_id\n",
       "count  1.581033e+06  1.581033e+06  1.581033e+06\n",
       "mean   1.222594e+17  3.886080e+17  1.492887e+08\n",
       "std    2.756938e+17  3.944920e+17  1.464763e+08\n",
       "min    1.391300e+04  2.103200e+04  4.400000e+01\n",
       "25%    1.114422e+07  3.152755e+08  3.168621e+07\n",
       "50%    2.337278e+07  4.316597e+17  9.604527e+07\n",
       "75%    4.608831e+07  7.802538e+17  2.255192e+08\n",
       "max    9.723611e+17  9.745963e+17  5.355267e+08"
      ]
     },
     "execution_count": 34,
     "metadata": {},
     "output_type": "execute_result"
    }
   ],
   "source": [
    "df.describe()"
   ]
  },
  {
   "cell_type": "code",
   "execution_count": 35,
   "metadata": {},
   "outputs": [
    {
     "data": {
      "text/plain": [
       "listing_id         0\n",
       "id                 0\n",
       "date               0\n",
       "reviewer_id        0\n",
       "reviewer_name      0\n",
       "comments         159\n",
       "dtype: int64"
      ]
     },
     "execution_count": 35,
     "metadata": {},
     "output_type": "execute_result"
    }
   ],
   "source": [
    "df.isnull().sum()"
   ]
  },
  {
   "cell_type": "code",
   "execution_count": 36,
   "metadata": {},
   "outputs": [
    {
     "data": {
      "text/plain": [
       "0"
      ]
     },
     "execution_count": 36,
     "metadata": {},
     "output_type": "execute_result"
    }
   ],
   "source": [
    "df.duplicated().sum()"
   ]
  },
  {
   "cell_type": "code",
   "execution_count": 37,
   "metadata": {},
   "outputs": [
    {
     "data": {
      "text/html": [
       "<div>\n",
       "<style scoped>\n",
       "    .dataframe tbody tr th:only-of-type {\n",
       "        vertical-align: middle;\n",
       "    }\n",
       "\n",
       "    .dataframe tbody tr th {\n",
       "        vertical-align: top;\n",
       "    }\n",
       "\n",
       "    .dataframe thead th {\n",
       "        text-align: right;\n",
       "    }\n",
       "</style>\n",
       "<table border=\"1\" class=\"dataframe\">\n",
       "  <thead>\n",
       "    <tr style=\"text-align: right;\">\n",
       "      <th></th>\n",
       "      <th>date</th>\n",
       "      <th>reviewer_name</th>\n",
       "      <th>comments</th>\n",
       "    </tr>\n",
       "  </thead>\n",
       "  <tbody>\n",
       "    <tr>\n",
       "      <th>0</th>\n",
       "      <td>2010-08-18</td>\n",
       "      <td>Michael</td>\n",
       "      <td>My girlfriend and I hadn't known Alina before ...</td>\n",
       "    </tr>\n",
       "    <tr>\n",
       "      <th>1</th>\n",
       "      <td>2011-07-11</td>\n",
       "      <td>Mathias</td>\n",
       "      <td>Alina was a really good host. The flat is clea...</td>\n",
       "    </tr>\n",
       "    <tr>\n",
       "      <th>2</th>\n",
       "      <td>2011-09-13</td>\n",
       "      <td>Kristin</td>\n",
       "      <td>Alina is an amazing host. She made me feel rig...</td>\n",
       "    </tr>\n",
       "    <tr>\n",
       "      <th>3</th>\n",
       "      <td>2011-10-03</td>\n",
       "      <td>Camilla</td>\n",
       "      <td>Alina's place is so nice, the room is big and ...</td>\n",
       "    </tr>\n",
       "    <tr>\n",
       "      <th>4</th>\n",
       "      <td>2011-10-09</td>\n",
       "      <td>Jorik</td>\n",
       "      <td>Nice location in Islington area, good for shor...</td>\n",
       "    </tr>\n",
       "  </tbody>\n",
       "</table>\n",
       "</div>"
      ],
      "text/plain": [
       "         date reviewer_name                                           comments\n",
       "0  2010-08-18       Michael  My girlfriend and I hadn't known Alina before ...\n",
       "1  2011-07-11       Mathias  Alina was a really good host. The flat is clea...\n",
       "2  2011-09-13       Kristin  Alina is an amazing host. She made me feel rig...\n",
       "3  2011-10-03       Camilla  Alina's place is so nice, the room is big and ...\n",
       "4  2011-10-09         Jorik  Nice location in Islington area, good for shor..."
      ]
     },
     "execution_count": 37,
     "metadata": {},
     "output_type": "execute_result"
    }
   ],
   "source": [
    "# remove the following columns id, date and reviewer_id\n",
    "df = df.drop(['id', 'reviewer_id', 'listing_id'], axis=1)\n",
    "df.head()"
   ]
  },
  {
   "cell_type": "code",
   "execution_count": 38,
   "metadata": {},
   "outputs": [],
   "source": [
    "def remove_urls(text):\n",
    "    # Input validation\n",
    "    if not isinstance(text, str):\n",
    "        logging.error(\"Input must be a string.\")\n",
    "        raise TypeError(\"Input must be a string.\")\n",
    "\n",
    "    # Removing URLs from the text\n",
    "    url_pattern = r'http\\S+|www\\S+|https\\S+'\n",
    "    cleaned_text = re.sub(url_pattern, '', text, flags=re.MULTILINE)\n",
    "\n",
    "    return cleaned_text"
   ]
  },
  {
   "cell_type": "code",
   "execution_count": 39,
   "metadata": {},
   "outputs": [],
   "source": [
    "def remove_mentions_hashtags(text):\n",
    "    # Input validation\n",
    "    if not isinstance(text, str):\n",
    "        logging.error(\"Input must be a string.\")\n",
    "        raise TypeError(\"Input must be a string.\")\n",
    "\n",
    "    # Removing mentions and hashtags from the text\n",
    "    pattern = r'\\@\\w+|\\#\\w+'\n",
    "    cleaned_text = re.sub(pattern, '', text)\n",
    "\n",
    "    return cleaned_text"
   ]
  },
  {
   "cell_type": "code",
   "execution_count": 40,
   "metadata": {},
   "outputs": [],
   "source": [
    "def remove_punctuations(text):\n",
    "\n",
    "    # Input validation\n",
    "    if not isinstance(text, str):\n",
    "        logging.error(\"Input must be a string.\")\n",
    "        raise TypeError(\"Input must be a string.\")\n",
    "\n",
    "    # Removing punctuations from the text\n",
    "    translation_table = str.maketrans('', '', string.punctuation)\n",
    "    cleaned_text = text.translate(translation_table)\n",
    "\n",
    "    return cleaned_text"
   ]
  },
  {
   "cell_type": "code",
   "execution_count": 41,
   "metadata": {},
   "outputs": [],
   "source": [
    "# Preload stop words to avoid reloading them every time the function is called\n",
    "stop_words = set(stopwords.words('english'))\n",
    "\n",
    "\n",
    "def remove_stopwords(text):\n",
    "    # Input validation\n",
    "    if not isinstance(text, str):\n",
    "        logging.error(\"Input must be a string.\")\n",
    "        raise TypeError(\"Input must be a string.\")\n",
    "\n",
    "    # Removing stop words from the text\n",
    "    filtered_words = [word for word in text.split() if word not in stop_words]\n",
    "    cleaned_text = ' '.join(filtered_words)\n",
    "\n",
    "    return cleaned_text"
   ]
  },
  {
   "cell_type": "code",
   "execution_count": 42,
   "metadata": {},
   "outputs": [],
   "source": [
    "def remove_numbers(text):\n",
    "    \"\"\"Remove numbers from a text string\"\"\"\n",
    "    return re.sub(r'\\d+', '', text)"
   ]
  },
  {
   "cell_type": "code",
   "execution_count": 43,
   "metadata": {},
   "outputs": [],
   "source": [
    "def remove_emojis(text):\n",
    "    \"\"\"Remove emojis from a text string\"\"\"\n",
    "    emoji_pattern = re.compile(pattern=\"[\"\n",
    "                               u\"\\U0001F600-\\U0001F64F\"  # emoticons\n",
    "                               u\"\\U0001F300-\\U0001F5FF\"  # symbols & pictographs\n",
    "                               u\"\\U0001F680-\\U0001F6FF\"  # transport & map symbols\n",
    "                               u\"\\U0001F700-\\U0001F77F\"  # alchemical symbols\n",
    "                               u\"\\U0001F780-\\U0001F7FF\"  # Geometric Shapes Extended\n",
    "                               u\"\\U0001F800-\\U0001F8FF\"  # Supplemental Arrows-C\n",
    "                               u\"\\U0001F900-\\U0001F9FF\"  # Supplemental Symbols and Pictographs\n",
    "                               u\"\\U0001FA00-\\U0001FA6F\"  # Chess Symbols\n",
    "                               u\"\\U0001FA70-\\U0001FAFF\"  # Symbols and Pictographs Extended-A\n",
    "                               u\"\\U00002702-\\U000027B0\"  # Dingbats\n",
    "                               u\"\\U000024C2-\\U0001F251\"\n",
    "                               \"]+\", flags=re.UNICODE)\n",
    "    return emoji_pattern.sub(r'', text)"
   ]
  },
  {
   "cell_type": "code",
   "execution_count": 44,
   "metadata": {},
   "outputs": [],
   "source": [
    "def handle_whitespace(text):\n",
    "    \"\"\"Handle excessive whitespace\"\"\"\n",
    "    return re.sub(r'\\s+', ' ', text).strip()"
   ]
  },
  {
   "cell_type": "code",
   "execution_count": 45,
   "metadata": {},
   "outputs": [],
   "source": [
    "def lemmitization(text):\n",
    "    \"\"\"Lemmitize text\"\"\"\n",
    "    lemmatizer = nltk.stem.WordNetLemmatizer()\n",
    "    return ' '.join([lemmatizer.lemmatize(word) for word in text.split()])"
   ]
  },
  {
   "cell_type": "code",
   "execution_count": 46,
   "metadata": {},
   "outputs": [],
   "source": [
    "def stemminization(text):\n",
    "    \"\"\"Stem text\"\"\"\n",
    "    stemmer = nltk.stem.PorterStemmer()\n",
    "    return ' '.join([stemmer.stem(word) for word in text.split()])"
   ]
  },
  {
   "cell_type": "code",
   "execution_count": 47,
   "metadata": {},
   "outputs": [],
   "source": [
    "def clean_text(text):\n",
    "    text = text.lower()\n",
    "    text = remove_urls(text)\n",
    "    text = remove_mentions_hashtags(text)\n",
    "    text = remove_punctuations(text)\n",
    "    text = remove_stopwords(text)\n",
    "    text = remove_numbers(text)\n",
    "    text = remove_emojis(text)\n",
    "    text = handle_whitespace(text)\n",
    "    text = lemmitization(text)\n",
    "    text = stemminization(text)\n",
    "\n",
    "    # if new functions are added, add them here\n",
    "\n",
    "    return text"
   ]
  },
  {
   "cell_type": "code",
   "execution_count": 48,
   "metadata": {},
   "outputs": [],
   "source": [
    "# convert comments column to str type\n",
    "df['comments'] = df['comments'].astype(str)"
   ]
  },
  {
   "cell_type": "code",
   "execution_count": 49,
   "metadata": {},
   "outputs": [
    {
     "data": {
      "text/html": [
       "<div>\n",
       "<style scoped>\n",
       "    .dataframe tbody tr th:only-of-type {\n",
       "        vertical-align: middle;\n",
       "    }\n",
       "\n",
       "    .dataframe tbody tr th {\n",
       "        vertical-align: top;\n",
       "    }\n",
       "\n",
       "    .dataframe thead th {\n",
       "        text-align: right;\n",
       "    }\n",
       "</style>\n",
       "<table border=\"1\" class=\"dataframe\">\n",
       "  <thead>\n",
       "    <tr style=\"text-align: right;\">\n",
       "      <th></th>\n",
       "      <th>date</th>\n",
       "      <th>reviewer_name</th>\n",
       "      <th>comments</th>\n",
       "      <th>cleaned_comments</th>\n",
       "    </tr>\n",
       "  </thead>\n",
       "  <tbody>\n",
       "    <tr>\n",
       "      <th>0</th>\n",
       "      <td>2010-08-18</td>\n",
       "      <td>Michael</td>\n",
       "      <td>My girlfriend and I hadn't known Alina before ...</td>\n",
       "      <td>girlfriend hadnt known alina took leap faith r...</td>\n",
       "    </tr>\n",
       "    <tr>\n",
       "      <th>1</th>\n",
       "      <td>2011-07-11</td>\n",
       "      <td>Mathias</td>\n",
       "      <td>Alina was a really good host. The flat is clea...</td>\n",
       "      <td>alina realli good host flat clean tidi realli ...</td>\n",
       "    </tr>\n",
       "    <tr>\n",
       "      <th>2</th>\n",
       "      <td>2011-09-13</td>\n",
       "      <td>Kristin</td>\n",
       "      <td>Alina is an amazing host. She made me feel rig...</td>\n",
       "      <td>alina amaz host made feel right home like hang...</td>\n",
       "    </tr>\n",
       "    <tr>\n",
       "      <th>3</th>\n",
       "      <td>2011-10-03</td>\n",
       "      <td>Camilla</td>\n",
       "      <td>Alina's place is so nice, the room is big and ...</td>\n",
       "      <td>alina place nice room big clean bed huge alina...</td>\n",
       "    </tr>\n",
       "    <tr>\n",
       "      <th>4</th>\n",
       "      <td>2011-10-09</td>\n",
       "      <td>Jorik</td>\n",
       "      <td>Nice location in Islington area, good for shor...</td>\n",
       "      <td>nice locat islington area good short busi trip...</td>\n",
       "    </tr>\n",
       "  </tbody>\n",
       "</table>\n",
       "</div>"
      ],
      "text/plain": [
       "         date reviewer_name  \\\n",
       "0  2010-08-18       Michael   \n",
       "1  2011-07-11       Mathias   \n",
       "2  2011-09-13       Kristin   \n",
       "3  2011-10-03       Camilla   \n",
       "4  2011-10-09         Jorik   \n",
       "\n",
       "                                            comments  \\\n",
       "0  My girlfriend and I hadn't known Alina before ...   \n",
       "1  Alina was a really good host. The flat is clea...   \n",
       "2  Alina is an amazing host. She made me feel rig...   \n",
       "3  Alina's place is so nice, the room is big and ...   \n",
       "4  Nice location in Islington area, good for shor...   \n",
       "\n",
       "                                    cleaned_comments  \n",
       "0  girlfriend hadnt known alina took leap faith r...  \n",
       "1  alina realli good host flat clean tidi realli ...  \n",
       "2  alina amaz host made feel right home like hang...  \n",
       "3  alina place nice room big clean bed huge alina...  \n",
       "4  nice locat islington area good short busi trip...  "
      ]
     },
     "execution_count": 49,
     "metadata": {},
     "output_type": "execute_result"
    }
   ],
   "source": [
    "df['cleaned_comments'] = df['comments'].apply(clean_text)\n",
    "df.head()"
   ]
  },
  {
   "cell_type": "code",
   "execution_count": 50,
   "metadata": {},
   "outputs": [
    {
     "data": {
      "text/plain": [
       "158"
      ]
     },
     "execution_count": 50,
     "metadata": {},
     "output_type": "execute_result"
    }
   ],
   "source": [
    "df.duplicated().sum()"
   ]
  },
  {
   "cell_type": "code",
   "execution_count": 51,
   "metadata": {},
   "outputs": [
    {
     "data": {
      "text/plain": [
       "0"
      ]
     },
     "execution_count": 51,
     "metadata": {},
     "output_type": "execute_result"
    }
   ],
   "source": [
    "# remove duplicates\n",
    "df = df.drop_duplicates()\n",
    "df.duplicated().sum()"
   ]
  },
  {
   "cell_type": "code",
   "execution_count": 52,
   "metadata": {},
   "outputs": [],
   "source": [
    "# Sentiment analysis\n",
    "df['polarity'] = df['cleaned_comments'].apply(\n",
    "    lambda x: TextBlob(x).sentiment.polarity)\n",
    "df['sentiment'] = pd.cut(df['polarity'], bins=3, labels=[\n",
    "                         'negative', 'neutral', 'positive'])"
   ]
  },
  {
   "cell_type": "code",
   "execution_count": null,
   "metadata": {},
   "outputs": [
    {
     "data": {
      "text/plain": [
       "sentiment\n",
       "positive    896748\n",
       "neutral     680210\n",
       "negative      3917\n",
       "Name: count, dtype: int64"
      ]
     },
     "execution_count": 28,
     "metadata": {},
     "output_type": "execute_result"
    }
   ],
   "source": [
    "# print the number of positive, negative and neutral reviews\n",
    "df['sentiment'].value_counts()"
   ]
  },
  {
   "cell_type": "code",
   "execution_count": null,
   "metadata": {},
   "outputs": [
    {
     "data": {
      "text/plain": [
       "sentiment\n",
       "negative    3915\n",
       "neutral     3915\n",
       "positive    3915\n",
       "Name: count, dtype: int64"
      ]
     },
     "execution_count": 29,
     "metadata": {},
     "output_type": "execute_result"
    }
   ],
   "source": [
    "# take 3915 positive reviews and 3915 negative reviews and 3915 neutral reviews\n",
    "df = df.groupby('sentiment').apply(lambda x: x.sample(n=3915)).reset_index(\n",
    "    drop=True).sort_values(by=['sentiment'])\n",
    "df['sentiment'].value_counts()"
   ]
  },
  {
   "cell_type": "code",
   "execution_count": null,
   "metadata": {},
   "outputs": [
    {
     "data": {
      "text/html": [
       "<div>\n",
       "<style scoped>\n",
       "    .dataframe tbody tr th:only-of-type {\n",
       "        vertical-align: middle;\n",
       "    }\n",
       "\n",
       "    .dataframe tbody tr th {\n",
       "        vertical-align: top;\n",
       "    }\n",
       "\n",
       "    .dataframe thead th {\n",
       "        text-align: right;\n",
       "    }\n",
       "</style>\n",
       "<table border=\"1\" class=\"dataframe\">\n",
       "  <thead>\n",
       "    <tr style=\"text-align: right;\">\n",
       "      <th></th>\n",
       "      <th>date</th>\n",
       "      <th>reviewer_name</th>\n",
       "      <th>comments</th>\n",
       "      <th>cleaned_comments</th>\n",
       "      <th>polarity</th>\n",
       "      <th>sentiment</th>\n",
       "    </tr>\n",
       "  </thead>\n",
       "  <tbody>\n",
       "    <tr>\n",
       "      <th>0</th>\n",
       "      <td>2016-08-20</td>\n",
       "      <td>Jenny</td>\n",
       "      <td>Die Unterkunft war wirklicht toll, ruhig, nett...</td>\n",
       "      <td>die unterkunft war wirklicht toll ruhig nett z...</td>\n",
       "      <td>-0.7</td>\n",
       "      <td>negative</td>\n",
       "    </tr>\n",
       "    <tr>\n",
       "      <th>1</th>\n",
       "      <td>2023-01-08</td>\n",
       "      <td>Elia</td>\n",
       "      <td>El apartamento estaba correcto, tal cual, como...</td>\n",
       "      <td>el apartamento estaba correcto tal cual como e...</td>\n",
       "      <td>-0.6</td>\n",
       "      <td>negative</td>\n",
       "    </tr>\n",
       "    <tr>\n",
       "      <th>2</th>\n",
       "      <td>2023-05-02</td>\n",
       "      <td>Cecilia</td>\n",
       "      <td>Yo buscaba estar cerca de la estación de Liver...</td>\n",
       "      <td>yo buscaba estar cerca de la estación de liver...</td>\n",
       "      <td>-0.6</td>\n",
       "      <td>negative</td>\n",
       "    </tr>\n",
       "    <tr>\n",
       "      <th>3</th>\n",
       "      <td>2018-11-25</td>\n",
       "      <td>Sibylle</td>\n",
       "      <td>Elisas Wohnung liegt in Hampsted, mehrere Busl...</td>\n",
       "      <td>elisa wohnung liegt hampst mehrer buslinien ha...</td>\n",
       "      <td>-0.7</td>\n",
       "      <td>negative</td>\n",
       "    </tr>\n",
       "    <tr>\n",
       "      <th>4</th>\n",
       "      <td>2018-02-18</td>\n",
       "      <td>Nathalie</td>\n",
       "      <td>Ich habe meinen Aufenthalt bei Hedge und Britt...</td>\n",
       "      <td>ich habe meinen aufenthalt bei hedg und britt ...</td>\n",
       "      <td>-0.7</td>\n",
       "      <td>negative</td>\n",
       "    </tr>\n",
       "  </tbody>\n",
       "</table>\n",
       "</div>"
      ],
      "text/plain": [
       "         date reviewer_name  \\\n",
       "0  2016-08-20         Jenny   \n",
       "1  2023-01-08          Elia   \n",
       "2  2023-05-02       Cecilia   \n",
       "3  2018-11-25       Sibylle   \n",
       "4  2018-02-18      Nathalie   \n",
       "\n",
       "                                            comments  \\\n",
       "0  Die Unterkunft war wirklicht toll, ruhig, nett...   \n",
       "1  El apartamento estaba correcto, tal cual, como...   \n",
       "2  Yo buscaba estar cerca de la estación de Liver...   \n",
       "3  Elisas Wohnung liegt in Hampsted, mehrere Busl...   \n",
       "4  Ich habe meinen Aufenthalt bei Hedge und Britt...   \n",
       "\n",
       "                                    cleaned_comments  polarity sentiment  \n",
       "0  die unterkunft war wirklicht toll ruhig nett z...      -0.7  negative  \n",
       "1  el apartamento estaba correcto tal cual como e...      -0.6  negative  \n",
       "2  yo buscaba estar cerca de la estación de liver...      -0.6  negative  \n",
       "3  elisa wohnung liegt hampst mehrer buslinien ha...      -0.7  negative  \n",
       "4  ich habe meinen aufenthalt bei hedg und britt ...      -0.7  negative  "
      ]
     },
     "execution_count": 2,
     "metadata": {},
     "output_type": "execute_result"
    }
   ],
   "source": [
    "df = pd.read_csv('Dataset/Cleaned Data/reviews.csv')\n",
    "df.head()"
   ]
  },
  {
   "cell_type": "code",
   "execution_count": null,
   "metadata": {},
   "outputs": [
    {
     "data": {
      "text/plain": [
       "date                0\n",
       "reviewer_name       0\n",
       "comments            0\n",
       "cleaned_comments    0\n",
       "polarity            0\n",
       "sentiment           0\n",
       "dtype: int64"
      ]
     },
     "execution_count": 4,
     "metadata": {},
     "output_type": "execute_result"
    }
   ],
   "source": [
    "# remove any rows with null values\n",
    "df = df.dropna()\n",
    "df.isnull().sum()"
   ]
  },
  {
   "cell_type": "code",
   "execution_count": null,
   "metadata": {},
   "outputs": [
    {
     "data": {
      "text/plain": [
       "0"
      ]
     },
     "execution_count": 5,
     "metadata": {},
     "output_type": "execute_result"
    }
   ],
   "source": [
    "df.duplicated().sum()"
   ]
  },
  {
   "cell_type": "code",
   "execution_count": null,
   "metadata": {},
   "outputs": [],
   "source": [
    "# drop any rows which do not start with a number in the date column\n",
    "df = df[df['date'].str.contains('^\\d', na=False)]"
   ]
  },
  {
   "cell_type": "code",
   "execution_count": null,
   "metadata": {},
   "outputs": [],
   "source": [
    "df['date'] = pd.to_datetime(df['date'])"
   ]
  },
  {
   "cell_type": "code",
   "execution_count": null,
   "metadata": {},
   "outputs": [],
   "source": [
    "# store the cleaned data\n",
    "df.to_csv('Dataset/Cleaned Data/reviews.csv', index=False)"
   ]
  }
 ],
 "metadata": {
  "kernelspec": {
   "display_name": "mlp",
   "language": "python",
   "name": "python3"
  },
  "language_info": {
   "codemirror_mode": {
    "name": "ipython",
    "version": 3
   },
   "file_extension": ".py",
   "mimetype": "text/x-python",
   "name": "python",
   "nbconvert_exporter": "python",
   "pygments_lexer": "ipython3",
   "version": "3.8.18"
  }
 },
 "nbformat": 4,
 "nbformat_minor": 2
}
