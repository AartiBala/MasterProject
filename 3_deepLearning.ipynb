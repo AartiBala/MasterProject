{
  "cells": [
    {
      "cell_type": "markdown",
      "metadata": {
        "id": "uzsnGJOB-RxJ"
      },
      "source": [
        "# Downloading Libraries\n"
      ]
    },
    {
      "cell_type": "code",
      "execution_count": 1,
      "metadata": {
        "id": "gC0lvqtN-RxR"
      },
      "outputs": [
        {
          "name": "stdout",
          "output_type": "stream",
          "text": [
            "Requirement already satisfied: nltk in /Users/apple/miniconda3/envs/mlp/lib/python3.8/site-packages (3.8.1)\n",
            "Requirement already satisfied: click in /Users/apple/miniconda3/envs/mlp/lib/python3.8/site-packages (from nltk) (8.1.7)\n",
            "Requirement already satisfied: joblib in /Users/apple/miniconda3/envs/mlp/lib/python3.8/site-packages (from nltk) (1.3.2)\n",
            "Requirement already satisfied: regex>=2021.8.3 in /Users/apple/miniconda3/envs/mlp/lib/python3.8/site-packages (from nltk) (2023.12.25)\n",
            "Requirement already satisfied: tqdm in /Users/apple/miniconda3/envs/mlp/lib/python3.8/site-packages (from nltk) (4.66.1)\n",
            "Requirement already satisfied: vaderSentiment in /Users/apple/miniconda3/envs/mlp/lib/python3.8/site-packages (3.3.2)\n",
            "Requirement already satisfied: requests in /Users/apple/miniconda3/envs/mlp/lib/python3.8/site-packages (from vaderSentiment) (2.31.0)\n",
            "Requirement already satisfied: charset-normalizer<4,>=2 in /Users/apple/miniconda3/envs/mlp/lib/python3.8/site-packages (from requests->vaderSentiment) (3.3.2)\n",
            "Requirement already satisfied: idna<4,>=2.5 in /Users/apple/miniconda3/envs/mlp/lib/python3.8/site-packages (from requests->vaderSentiment) (3.6)\n",
            "Requirement already satisfied: urllib3<3,>=1.21.1 in /Users/apple/miniconda3/envs/mlp/lib/python3.8/site-packages (from requests->vaderSentiment) (2.1.0)\n",
            "Requirement already satisfied: certifi>=2017.4.17 in /Users/apple/miniconda3/envs/mlp/lib/python3.8/site-packages (from requests->vaderSentiment) (2023.11.17)\n",
            "Requirement already satisfied: pytrends in /Users/apple/miniconda3/envs/mlp/lib/python3.8/site-packages (4.9.2)\n",
            "Requirement already satisfied: requests>=2.0 in /Users/apple/miniconda3/envs/mlp/lib/python3.8/site-packages (from pytrends) (2.31.0)\n",
            "Requirement already satisfied: pandas>=0.25 in /Users/apple/miniconda3/envs/mlp/lib/python3.8/site-packages (from pytrends) (2.0.3)\n",
            "Requirement already satisfied: lxml in /Users/apple/miniconda3/envs/mlp/lib/python3.8/site-packages (from pytrends) (4.9.4)\n",
            "Requirement already satisfied: python-dateutil>=2.8.2 in /Users/apple/miniconda3/envs/mlp/lib/python3.8/site-packages (from pandas>=0.25->pytrends) (2.8.2)\n",
            "Requirement already satisfied: pytz>=2020.1 in /Users/apple/miniconda3/envs/mlp/lib/python3.8/site-packages (from pandas>=0.25->pytrends) (2023.3.post1)\n",
            "Requirement already satisfied: tzdata>=2022.1 in /Users/apple/miniconda3/envs/mlp/lib/python3.8/site-packages (from pandas>=0.25->pytrends) (2023.3)\n",
            "Requirement already satisfied: numpy>=1.20.3 in /Users/apple/miniconda3/envs/mlp/lib/python3.8/site-packages (from pandas>=0.25->pytrends) (1.24.4)\n",
            "Requirement already satisfied: charset-normalizer<4,>=2 in /Users/apple/miniconda3/envs/mlp/lib/python3.8/site-packages (from requests>=2.0->pytrends) (3.3.2)\n",
            "Requirement already satisfied: idna<4,>=2.5 in /Users/apple/miniconda3/envs/mlp/lib/python3.8/site-packages (from requests>=2.0->pytrends) (3.6)\n",
            "Requirement already satisfied: urllib3<3,>=1.21.1 in /Users/apple/miniconda3/envs/mlp/lib/python3.8/site-packages (from requests>=2.0->pytrends) (2.1.0)\n",
            "Requirement already satisfied: certifi>=2017.4.17 in /Users/apple/miniconda3/envs/mlp/lib/python3.8/site-packages (from requests>=2.0->pytrends) (2023.11.17)\n",
            "Requirement already satisfied: six>=1.5 in /Users/apple/miniconda3/envs/mlp/lib/python3.8/site-packages (from python-dateutil>=2.8.2->pandas>=0.25->pytrends) (1.16.0)\n",
            "Requirement already satisfied: textblob in /Users/apple/miniconda3/envs/mlp/lib/python3.8/site-packages (0.17.1)\n",
            "Requirement already satisfied: nltk>=3.1 in /Users/apple/miniconda3/envs/mlp/lib/python3.8/site-packages (from textblob) (3.8.1)\n",
            "Requirement already satisfied: click in /Users/apple/miniconda3/envs/mlp/lib/python3.8/site-packages (from nltk>=3.1->textblob) (8.1.7)\n",
            "Requirement already satisfied: joblib in /Users/apple/miniconda3/envs/mlp/lib/python3.8/site-packages (from nltk>=3.1->textblob) (1.3.2)\n",
            "Requirement already satisfied: regex>=2021.8.3 in /Users/apple/miniconda3/envs/mlp/lib/python3.8/site-packages (from nltk>=3.1->textblob) (2023.12.25)\n",
            "Requirement already satisfied: tqdm in /Users/apple/miniconda3/envs/mlp/lib/python3.8/site-packages (from nltk>=3.1->textblob) (4.66.1)\n",
            "Requirement already satisfied: wordcloud in /Users/apple/miniconda3/envs/mlp/lib/python3.8/site-packages (1.9.3)\n",
            "Requirement already satisfied: numpy>=1.6.1 in /Users/apple/miniconda3/envs/mlp/lib/python3.8/site-packages (from wordcloud) (1.24.4)\n",
            "Requirement already satisfied: pillow in /Users/apple/miniconda3/envs/mlp/lib/python3.8/site-packages (from wordcloud) (10.1.0)\n",
            "Requirement already satisfied: matplotlib in /Users/apple/miniconda3/envs/mlp/lib/python3.8/site-packages (from wordcloud) (3.7.4)\n",
            "Requirement already satisfied: contourpy>=1.0.1 in /Users/apple/miniconda3/envs/mlp/lib/python3.8/site-packages (from matplotlib->wordcloud) (1.1.1)\n",
            "Requirement already satisfied: cycler>=0.10 in /Users/apple/miniconda3/envs/mlp/lib/python3.8/site-packages (from matplotlib->wordcloud) (0.12.1)\n",
            "Requirement already satisfied: fonttools>=4.22.0 in /Users/apple/miniconda3/envs/mlp/lib/python3.8/site-packages (from matplotlib->wordcloud) (4.47.0)\n",
            "Requirement already satisfied: kiwisolver>=1.0.1 in /Users/apple/miniconda3/envs/mlp/lib/python3.8/site-packages (from matplotlib->wordcloud) (1.4.5)\n",
            "Requirement already satisfied: packaging>=20.0 in /Users/apple/miniconda3/envs/mlp/lib/python3.8/site-packages (from matplotlib->wordcloud) (23.2)\n",
            "Requirement already satisfied: pyparsing>=2.3.1 in /Users/apple/miniconda3/envs/mlp/lib/python3.8/site-packages (from matplotlib->wordcloud) (3.1.1)\n",
            "Requirement already satisfied: python-dateutil>=2.7 in /Users/apple/miniconda3/envs/mlp/lib/python3.8/site-packages (from matplotlib->wordcloud) (2.8.2)\n",
            "Requirement already satisfied: importlib-resources>=3.2.0 in /Users/apple/miniconda3/envs/mlp/lib/python3.8/site-packages (from matplotlib->wordcloud) (6.1.1)\n",
            "Requirement already satisfied: zipp>=3.1.0 in /Users/apple/miniconda3/envs/mlp/lib/python3.8/site-packages (from importlib-resources>=3.2.0->matplotlib->wordcloud) (3.17.0)\n",
            "Requirement already satisfied: six>=1.5 in /Users/apple/miniconda3/envs/mlp/lib/python3.8/site-packages (from python-dateutil>=2.7->matplotlib->wordcloud) (1.16.0)\n",
            "Requirement already satisfied: gensim in /Users/apple/miniconda3/envs/mlp/lib/python3.8/site-packages (4.3.2)\n",
            "Requirement already satisfied: numpy>=1.18.5 in /Users/apple/miniconda3/envs/mlp/lib/python3.8/site-packages (from gensim) (1.24.4)\n",
            "Requirement already satisfied: scipy>=1.7.0 in /Users/apple/miniconda3/envs/mlp/lib/python3.8/site-packages (from gensim) (1.10.1)\n",
            "Requirement already satisfied: smart-open>=1.8.1 in /Users/apple/miniconda3/envs/mlp/lib/python3.8/site-packages (from gensim) (6.4.0)\n",
            "Requirement already satisfied: seaborn in /Users/apple/miniconda3/envs/mlp/lib/python3.8/site-packages (0.13.0)\n",
            "Requirement already satisfied: numpy!=1.24.0,>=1.20 in /Users/apple/miniconda3/envs/mlp/lib/python3.8/site-packages (from seaborn) (1.24.4)\n",
            "Requirement already satisfied: pandas>=1.2 in /Users/apple/miniconda3/envs/mlp/lib/python3.8/site-packages (from seaborn) (2.0.3)\n",
            "Requirement already satisfied: matplotlib!=3.6.1,>=3.3 in /Users/apple/miniconda3/envs/mlp/lib/python3.8/site-packages (from seaborn) (3.7.4)\n",
            "Requirement already satisfied: contourpy>=1.0.1 in /Users/apple/miniconda3/envs/mlp/lib/python3.8/site-packages (from matplotlib!=3.6.1,>=3.3->seaborn) (1.1.1)\n",
            "Requirement already satisfied: cycler>=0.10 in /Users/apple/miniconda3/envs/mlp/lib/python3.8/site-packages (from matplotlib!=3.6.1,>=3.3->seaborn) (0.12.1)\n",
            "Requirement already satisfied: fonttools>=4.22.0 in /Users/apple/miniconda3/envs/mlp/lib/python3.8/site-packages (from matplotlib!=3.6.1,>=3.3->seaborn) (4.47.0)\n",
            "Requirement already satisfied: kiwisolver>=1.0.1 in /Users/apple/miniconda3/envs/mlp/lib/python3.8/site-packages (from matplotlib!=3.6.1,>=3.3->seaborn) (1.4.5)\n",
            "Requirement already satisfied: packaging>=20.0 in /Users/apple/miniconda3/envs/mlp/lib/python3.8/site-packages (from matplotlib!=3.6.1,>=3.3->seaborn) (23.2)\n",
            "Requirement already satisfied: pillow>=6.2.0 in /Users/apple/miniconda3/envs/mlp/lib/python3.8/site-packages (from matplotlib!=3.6.1,>=3.3->seaborn) (10.1.0)\n",
            "Requirement already satisfied: pyparsing>=2.3.1 in /Users/apple/miniconda3/envs/mlp/lib/python3.8/site-packages (from matplotlib!=3.6.1,>=3.3->seaborn) (3.1.1)\n",
            "Requirement already satisfied: python-dateutil>=2.7 in /Users/apple/miniconda3/envs/mlp/lib/python3.8/site-packages (from matplotlib!=3.6.1,>=3.3->seaborn) (2.8.2)\n",
            "Requirement already satisfied: importlib-resources>=3.2.0 in /Users/apple/miniconda3/envs/mlp/lib/python3.8/site-packages (from matplotlib!=3.6.1,>=3.3->seaborn) (6.1.1)\n",
            "Requirement already satisfied: pytz>=2020.1 in /Users/apple/miniconda3/envs/mlp/lib/python3.8/site-packages (from pandas>=1.2->seaborn) (2023.3.post1)\n",
            "Requirement already satisfied: tzdata>=2022.1 in /Users/apple/miniconda3/envs/mlp/lib/python3.8/site-packages (from pandas>=1.2->seaborn) (2023.3)\n",
            "Requirement already satisfied: zipp>=3.1.0 in /Users/apple/miniconda3/envs/mlp/lib/python3.8/site-packages (from importlib-resources>=3.2.0->matplotlib!=3.6.1,>=3.3->seaborn) (3.17.0)\n",
            "Requirement already satisfied: six>=1.5 in /Users/apple/miniconda3/envs/mlp/lib/python3.8/site-packages (from python-dateutil>=2.7->matplotlib!=3.6.1,>=3.3->seaborn) (1.16.0)\n",
            "Requirement already satisfied: TextBlob in /Users/apple/miniconda3/envs/mlp/lib/python3.8/site-packages (0.17.1)\n",
            "Requirement already satisfied: nltk>=3.1 in /Users/apple/miniconda3/envs/mlp/lib/python3.8/site-packages (from TextBlob) (3.8.1)\n",
            "Requirement already satisfied: click in /Users/apple/miniconda3/envs/mlp/lib/python3.8/site-packages (from nltk>=3.1->TextBlob) (8.1.7)\n",
            "Requirement already satisfied: joblib in /Users/apple/miniconda3/envs/mlp/lib/python3.8/site-packages (from nltk>=3.1->TextBlob) (1.3.2)\n",
            "Requirement already satisfied: regex>=2021.8.3 in /Users/apple/miniconda3/envs/mlp/lib/python3.8/site-packages (from nltk>=3.1->TextBlob) (2023.12.25)\n",
            "Requirement already satisfied: tqdm in /Users/apple/miniconda3/envs/mlp/lib/python3.8/site-packages (from nltk>=3.1->TextBlob) (4.66.1)\n",
            "Requirement already satisfied: joblib in /Users/apple/miniconda3/envs/mlp/lib/python3.8/site-packages (1.3.2)\n"
          ]
        }
      ],
      "source": [
        "! pip install nltk\n",
        "! pip install vaderSentiment\n",
        "! pip install pytrends\n",
        "! pip install textblob\n",
        "! pip install wordcloud\n",
        "! pip install gensim\n",
        "! pip install seaborn\n",
        "! pip install TextBlob\n",
        "! pip install joblib"
      ]
    },
    {
      "cell_type": "code",
      "execution_count": 4,
      "metadata": {
        "id": "ANbzw_oa-RxU"
      },
      "outputs": [
        {
          "ename": "ModuleNotFoundError",
          "evalue": "No module named 'tensorflow'",
          "output_type": "error",
          "traceback": [
            "\u001b[0;31m---------------------------------------------------------------------------\u001b[0m",
            "\u001b[0;31mModuleNotFoundError\u001b[0m                       Traceback (most recent call last)",
            "Cell \u001b[0;32mIn[4], line 6\u001b[0m\n\u001b[1;32m      2\u001b[0m \u001b[38;5;28;01mimport\u001b[39;00m \u001b[38;5;21;01mnumpy\u001b[39;00m \u001b[38;5;28;01mas\u001b[39;00m \u001b[38;5;21;01mnp\u001b[39;00m\n\u001b[1;32m      3\u001b[0m \u001b[38;5;28;01mfrom\u001b[39;00m \u001b[38;5;21;01msklearn\u001b[39;00m\u001b[38;5;21;01m.\u001b[39;00m\u001b[38;5;21;01mmodel_selection\u001b[39;00m \u001b[38;5;28;01mimport\u001b[39;00m train_test_split\n\u001b[0;32m----> 6\u001b[0m \u001b[38;5;28;01mfrom\u001b[39;00m \u001b[38;5;21;01mtensorflow\u001b[39;00m\u001b[38;5;21;01m.\u001b[39;00m\u001b[38;5;21;01mkeras\u001b[39;00m\u001b[38;5;21;01m.\u001b[39;00m\u001b[38;5;21;01mpreprocessing\u001b[39;00m\u001b[38;5;21;01m.\u001b[39;00m\u001b[38;5;21;01mtext\u001b[39;00m \u001b[38;5;28;01mimport\u001b[39;00m Tokenizer\n\u001b[1;32m      7\u001b[0m \u001b[38;5;28;01mfrom\u001b[39;00m \u001b[38;5;21;01mtensorflow\u001b[39;00m\u001b[38;5;21;01m.\u001b[39;00m\u001b[38;5;21;01mkeras\u001b[39;00m\u001b[38;5;21;01m.\u001b[39;00m\u001b[38;5;21;01mpreprocessing\u001b[39;00m\u001b[38;5;21;01m.\u001b[39;00m\u001b[38;5;21;01msequence\u001b[39;00m \u001b[38;5;28;01mimport\u001b[39;00m pad_sequences\n\u001b[1;32m      8\u001b[0m \u001b[38;5;28;01mfrom\u001b[39;00m \u001b[38;5;21;01mtensorflow\u001b[39;00m\u001b[38;5;21;01m.\u001b[39;00m\u001b[38;5;21;01mkeras\u001b[39;00m\u001b[38;5;21;01m.\u001b[39;00m\u001b[38;5;21;01mmodels\u001b[39;00m \u001b[38;5;28;01mimport\u001b[39;00m Sequential\n",
            "\u001b[0;31mModuleNotFoundError\u001b[0m: No module named 'tensorflow'"
          ]
        }
      ],
      "source": [
        "import pandas as pd\n",
        "import numpy as np\n",
        "from sklearn.model_selection import train_test_split\n",
        "\n",
        "\n",
        "from tensorflow.keras.preprocessing.text import Tokenizer\n",
        "from tensorflow.keras.preprocessing.sequence import pad_sequences\n",
        "from tensorflow.keras.models import Sequential\n",
        "from tensorflow.keras.layers import Embedding, LSTM, Dense, Dropout\n",
        "from tensorflow.keras.callbacks import EarlyStopping\n",
        "\n",
        "import nltk\n",
        "from nltk.corpus import stopwords\n",
        "from nltk.tokenize import word_tokenize"
      ]
    },
    {
      "cell_type": "code",
      "execution_count": null,
      "metadata": {
        "colab": {
          "base_uri": "https://localhost:8080/"
        },
        "id": "NVfc0KLK-RxV",
        "outputId": "130d9c2e-1283-4163-e3e1-aeef81b0b8e2"
      },
      "outputs": [
        {
          "name": "stderr",
          "output_type": "stream",
          "text": [
            "[nltk_data] Downloading package punkt to /root/nltk_data...\n",
            "[nltk_data]   Unzipping tokenizers/punkt.zip.\n",
            "[nltk_data] Downloading package stopwords to /root/nltk_data...\n",
            "[nltk_data]   Unzipping corpora/stopwords.zip.\n",
            "[nltk_data] Downloading package wordnet to /root/nltk_data...\n"
          ]
        },
        {
          "data": {
            "text/plain": [
              "True"
            ]
          },
          "execution_count": 2,
          "metadata": {},
          "output_type": "execute_result"
        }
      ],
      "source": [
        "# Download NLTK resources (if not already downloaded)\n",
        "nltk.download('punkt')\n",
        "nltk.download('stopwords')\n",
        "nltk.download('wordnet')\n",
        "nltk.download('wordnet', quiet=True)"
      ]
    },
    {
      "cell_type": "markdown",
      "metadata": {
        "id": "hKAI5xhu-RxW"
      },
      "source": [
        "# Importing Dataset\n"
      ]
    },
    {
      "cell_type": "code",
      "execution_count": null,
      "metadata": {
        "colab": {
          "base_uri": "https://localhost:8080/"
        },
        "id": "bY3xQlHD-ZUu",
        "outputId": "405eb882-1233-48b4-8971-ac86f5fcbbe7"
      },
      "outputs": [
        {
          "name": "stdout",
          "output_type": "stream",
          "text": [
            "Mounted at /content/drive\n"
          ]
        }
      ],
      "source": [
        "from google.colab import drive\n",
        "drive.mount('/content/drive')"
      ]
    },
    {
      "cell_type": "code",
      "execution_count": null,
      "metadata": {
        "colab": {
          "base_uri": "https://localhost:8080/",
          "height": 272
        },
        "id": "vZ6mJkfm-RxX",
        "outputId": "8a4dfdd7-d155-4289-c42b-43af33bb3e00"
      },
      "outputs": [
        {
          "data": {
            "text/html": [
              "\n",
              "  <div id=\"df-ce883360-5f6c-4978-a741-73a408dbbc8f\" class=\"colab-df-container\">\n",
              "    <div>\n",
              "<style scoped>\n",
              "    .dataframe tbody tr th:only-of-type {\n",
              "        vertical-align: middle;\n",
              "    }\n",
              "\n",
              "    .dataframe tbody tr th {\n",
              "        vertical-align: top;\n",
              "    }\n",
              "\n",
              "    .dataframe thead th {\n",
              "        text-align: right;\n",
              "    }\n",
              "</style>\n",
              "<table border=\"1\" class=\"dataframe\">\n",
              "  <thead>\n",
              "    <tr style=\"text-align: right;\">\n",
              "      <th></th>\n",
              "      <th>listing_id</th>\n",
              "      <th>reviewer_name</th>\n",
              "      <th>comments</th>\n",
              "      <th>cleaned_comments</th>\n",
              "      <th>polarity</th>\n",
              "      <th>sentiment</th>\n",
              "    </tr>\n",
              "  </thead>\n",
              "  <tbody>\n",
              "    <tr>\n",
              "      <th>0</th>\n",
              "      <td>4326511</td>\n",
              "      <td>Laura</td>\n",
              "      <td>Das Zimmer und das Bad waren sauber und komfor...</td>\n",
              "      <td>da zimmer und da bad waren sauber und komforta...</td>\n",
              "      <td>-0.7</td>\n",
              "      <td>negative</td>\n",
              "    </tr>\n",
              "    <tr>\n",
              "      <th>1</th>\n",
              "      <td>603032069621870277</td>\n",
              "      <td>Fatima</td>\n",
              "      <td>Bad service</td>\n",
              "      <td>bad servic</td>\n",
              "      <td>-0.7</td>\n",
              "      <td>negative</td>\n",
              "    </tr>\n",
              "    <tr>\n",
              "      <th>2</th>\n",
              "      <td>8629818</td>\n",
              "      <td>Andrew</td>\n",
              "      <td>In Paul's absence, Lucy and Jack were amazing ...</td>\n",
              "      <td>paul absenc luci jack amaz host brthe secret g...</td>\n",
              "      <td>-0.4</td>\n",
              "      <td>negative</td>\n",
              "    </tr>\n",
              "    <tr>\n",
              "      <th>3</th>\n",
              "      <td>25012636</td>\n",
              "      <td>Kate</td>\n",
              "      <td>I used Nicholas’ room as a base whilst I was i...</td>\n",
              "      <td>use nicholas’ room base whilst properti busi f...</td>\n",
              "      <td>-0.8</td>\n",
              "      <td>negative</td>\n",
              "    </tr>\n",
              "    <tr>\n",
              "      <th>4</th>\n",
              "      <td>12725143</td>\n",
              "      <td>Yvon</td>\n",
              "      <td>You can’t go wrong with the townhouse. It has ...</td>\n",
              "      <td>can’t go wrong townhous amen need place spotle...</td>\n",
              "      <td>-0.5</td>\n",
              "      <td>negative</td>\n",
              "    </tr>\n",
              "  </tbody>\n",
              "</table>\n",
              "</div>\n",
              "    <div class=\"colab-df-buttons\">\n",
              "\n",
              "  <div class=\"colab-df-container\">\n",
              "    <button class=\"colab-df-convert\" onclick=\"convertToInteractive('df-ce883360-5f6c-4978-a741-73a408dbbc8f')\"\n",
              "            title=\"Convert this dataframe to an interactive table.\"\n",
              "            style=\"display:none;\">\n",
              "\n",
              "  <svg xmlns=\"http://www.w3.org/2000/svg\" height=\"24px\" viewBox=\"0 -960 960 960\">\n",
              "    <path d=\"M120-120v-720h720v720H120Zm60-500h600v-160H180v160Zm220 220h160v-160H400v160Zm0 220h160v-160H400v160ZM180-400h160v-160H180v160Zm440 0h160v-160H620v160ZM180-180h160v-160H180v160Zm440 0h160v-160H620v160Z\"/>\n",
              "  </svg>\n",
              "    </button>\n",
              "\n",
              "  <style>\n",
              "    .colab-df-container {\n",
              "      display:flex;\n",
              "      gap: 12px;\n",
              "    }\n",
              "\n",
              "    .colab-df-convert {\n",
              "      background-color: #E8F0FE;\n",
              "      border: none;\n",
              "      border-radius: 50%;\n",
              "      cursor: pointer;\n",
              "      display: none;\n",
              "      fill: #1967D2;\n",
              "      height: 32px;\n",
              "      padding: 0 0 0 0;\n",
              "      width: 32px;\n",
              "    }\n",
              "\n",
              "    .colab-df-convert:hover {\n",
              "      background-color: #E2EBFA;\n",
              "      box-shadow: 0px 1px 2px rgba(60, 64, 67, 0.3), 0px 1px 3px 1px rgba(60, 64, 67, 0.15);\n",
              "      fill: #174EA6;\n",
              "    }\n",
              "\n",
              "    .colab-df-buttons div {\n",
              "      margin-bottom: 4px;\n",
              "    }\n",
              "\n",
              "    [theme=dark] .colab-df-convert {\n",
              "      background-color: #3B4455;\n",
              "      fill: #D2E3FC;\n",
              "    }\n",
              "\n",
              "    [theme=dark] .colab-df-convert:hover {\n",
              "      background-color: #434B5C;\n",
              "      box-shadow: 0px 1px 3px 1px rgba(0, 0, 0, 0.15);\n",
              "      filter: drop-shadow(0px 1px 2px rgba(0, 0, 0, 0.3));\n",
              "      fill: #FFFFFF;\n",
              "    }\n",
              "  </style>\n",
              "\n",
              "    <script>\n",
              "      const buttonEl =\n",
              "        document.querySelector('#df-ce883360-5f6c-4978-a741-73a408dbbc8f button.colab-df-convert');\n",
              "      buttonEl.style.display =\n",
              "        google.colab.kernel.accessAllowed ? 'block' : 'none';\n",
              "\n",
              "      async function convertToInteractive(key) {\n",
              "        const element = document.querySelector('#df-ce883360-5f6c-4978-a741-73a408dbbc8f');\n",
              "        const dataTable =\n",
              "          await google.colab.kernel.invokeFunction('convertToInteractive',\n",
              "                                                    [key], {});\n",
              "        if (!dataTable) return;\n",
              "\n",
              "        const docLinkHtml = 'Like what you see? Visit the ' +\n",
              "          '<a target=\"_blank\" href=https://colab.research.google.com/notebooks/data_table.ipynb>data table notebook</a>'\n",
              "          + ' to learn more about interactive tables.';\n",
              "        element.innerHTML = '';\n",
              "        dataTable['output_type'] = 'display_data';\n",
              "        await google.colab.output.renderOutput(dataTable, element);\n",
              "        const docLink = document.createElement('div');\n",
              "        docLink.innerHTML = docLinkHtml;\n",
              "        element.appendChild(docLink);\n",
              "      }\n",
              "    </script>\n",
              "  </div>\n",
              "\n",
              "\n",
              "<div id=\"df-bf3226da-4dcc-4bcf-af03-16bb89e8d323\">\n",
              "  <button class=\"colab-df-quickchart\" onclick=\"quickchart('df-bf3226da-4dcc-4bcf-af03-16bb89e8d323')\"\n",
              "            title=\"Suggest charts\"\n",
              "            style=\"display:none;\">\n",
              "\n",
              "<svg xmlns=\"http://www.w3.org/2000/svg\" height=\"24px\"viewBox=\"0 0 24 24\"\n",
              "     width=\"24px\">\n",
              "    <g>\n",
              "        <path d=\"M19 3H5c-1.1 0-2 .9-2 2v14c0 1.1.9 2 2 2h14c1.1 0 2-.9 2-2V5c0-1.1-.9-2-2-2zM9 17H7v-7h2v7zm4 0h-2V7h2v10zm4 0h-2v-4h2v4z\"/>\n",
              "    </g>\n",
              "</svg>\n",
              "  </button>\n",
              "\n",
              "<style>\n",
              "  .colab-df-quickchart {\n",
              "      --bg-color: #E8F0FE;\n",
              "      --fill-color: #1967D2;\n",
              "      --hover-bg-color: #E2EBFA;\n",
              "      --hover-fill-color: #174EA6;\n",
              "      --disabled-fill-color: #AAA;\n",
              "      --disabled-bg-color: #DDD;\n",
              "  }\n",
              "\n",
              "  [theme=dark] .colab-df-quickchart {\n",
              "      --bg-color: #3B4455;\n",
              "      --fill-color: #D2E3FC;\n",
              "      --hover-bg-color: #434B5C;\n",
              "      --hover-fill-color: #FFFFFF;\n",
              "      --disabled-bg-color: #3B4455;\n",
              "      --disabled-fill-color: #666;\n",
              "  }\n",
              "\n",
              "  .colab-df-quickchart {\n",
              "    background-color: var(--bg-color);\n",
              "    border: none;\n",
              "    border-radius: 50%;\n",
              "    cursor: pointer;\n",
              "    display: none;\n",
              "    fill: var(--fill-color);\n",
              "    height: 32px;\n",
              "    padding: 0;\n",
              "    width: 32px;\n",
              "  }\n",
              "\n",
              "  .colab-df-quickchart:hover {\n",
              "    background-color: var(--hover-bg-color);\n",
              "    box-shadow: 0 1px 2px rgba(60, 64, 67, 0.3), 0 1px 3px 1px rgba(60, 64, 67, 0.15);\n",
              "    fill: var(--button-hover-fill-color);\n",
              "  }\n",
              "\n",
              "  .colab-df-quickchart-complete:disabled,\n",
              "  .colab-df-quickchart-complete:disabled:hover {\n",
              "    background-color: var(--disabled-bg-color);\n",
              "    fill: var(--disabled-fill-color);\n",
              "    box-shadow: none;\n",
              "  }\n",
              "\n",
              "  .colab-df-spinner {\n",
              "    border: 2px solid var(--fill-color);\n",
              "    border-color: transparent;\n",
              "    border-bottom-color: var(--fill-color);\n",
              "    animation:\n",
              "      spin 1s steps(1) infinite;\n",
              "  }\n",
              "\n",
              "  @keyframes spin {\n",
              "    0% {\n",
              "      border-color: transparent;\n",
              "      border-bottom-color: var(--fill-color);\n",
              "      border-left-color: var(--fill-color);\n",
              "    }\n",
              "    20% {\n",
              "      border-color: transparent;\n",
              "      border-left-color: var(--fill-color);\n",
              "      border-top-color: var(--fill-color);\n",
              "    }\n",
              "    30% {\n",
              "      border-color: transparent;\n",
              "      border-left-color: var(--fill-color);\n",
              "      border-top-color: var(--fill-color);\n",
              "      border-right-color: var(--fill-color);\n",
              "    }\n",
              "    40% {\n",
              "      border-color: transparent;\n",
              "      border-right-color: var(--fill-color);\n",
              "      border-top-color: var(--fill-color);\n",
              "    }\n",
              "    60% {\n",
              "      border-color: transparent;\n",
              "      border-right-color: var(--fill-color);\n",
              "    }\n",
              "    80% {\n",
              "      border-color: transparent;\n",
              "      border-right-color: var(--fill-color);\n",
              "      border-bottom-color: var(--fill-color);\n",
              "    }\n",
              "    90% {\n",
              "      border-color: transparent;\n",
              "      border-bottom-color: var(--fill-color);\n",
              "    }\n",
              "  }\n",
              "</style>\n",
              "\n",
              "  <script>\n",
              "    async function quickchart(key) {\n",
              "      const quickchartButtonEl =\n",
              "        document.querySelector('#' + key + ' button');\n",
              "      quickchartButtonEl.disabled = true;  // To prevent multiple clicks.\n",
              "      quickchartButtonEl.classList.add('colab-df-spinner');\n",
              "      try {\n",
              "        const charts = await google.colab.kernel.invokeFunction(\n",
              "            'suggestCharts', [key], {});\n",
              "      } catch (error) {\n",
              "        console.error('Error during call to suggestCharts:', error);\n",
              "      }\n",
              "      quickchartButtonEl.classList.remove('colab-df-spinner');\n",
              "      quickchartButtonEl.classList.add('colab-df-quickchart-complete');\n",
              "    }\n",
              "    (() => {\n",
              "      let quickchartButtonEl =\n",
              "        document.querySelector('#df-bf3226da-4dcc-4bcf-af03-16bb89e8d323 button');\n",
              "      quickchartButtonEl.style.display =\n",
              "        google.colab.kernel.accessAllowed ? 'block' : 'none';\n",
              "    })();\n",
              "  </script>\n",
              "</div>\n",
              "    </div>\n",
              "  </div>\n"
            ],
            "text/plain": [
              "           listing_id reviewer_name  \\\n",
              "0             4326511         Laura   \n",
              "1  603032069621870277        Fatima   \n",
              "2             8629818        Andrew   \n",
              "3            25012636          Kate   \n",
              "4            12725143          Yvon   \n",
              "\n",
              "                                            comments  \\\n",
              "0  Das Zimmer und das Bad waren sauber und komfor...   \n",
              "1                                        Bad service   \n",
              "2  In Paul's absence, Lucy and Jack were amazing ...   \n",
              "3  I used Nicholas’ room as a base whilst I was i...   \n",
              "4  You can’t go wrong with the townhouse. It has ...   \n",
              "\n",
              "                                    cleaned_comments  polarity sentiment  \n",
              "0  da zimmer und da bad waren sauber und komforta...      -0.7  negative  \n",
              "1                                         bad servic      -0.7  negative  \n",
              "2  paul absenc luci jack amaz host brthe secret g...      -0.4  negative  \n",
              "3  use nicholas’ room base whilst properti busi f...      -0.8  negative  \n",
              "4  can’t go wrong townhous amen need place spotle...      -0.5  negative  "
            ]
          },
          "execution_count": 4,
          "metadata": {},
          "output_type": "execute_result"
        }
      ],
      "source": [
        "df = pd.read_csv('/content/drive/MyDrive/Datasets/Cleaned Data/reviews.csv')\n",
        "df.head()"
      ]
    },
    {
      "cell_type": "markdown",
      "metadata": {
        "id": "WqHSwj5E-RxX"
      },
      "source": [
        "# Date Preprocessing"
      ]
    },
    {
      "cell_type": "code",
      "execution_count": null,
      "metadata": {
        "colab": {
          "base_uri": "https://localhost:8080/"
        },
        "id": "5Jvzy7YS-RxY",
        "outputId": "533e5447-d64b-4842-af0c-f98ad1155a98"
      },
      "outputs": [
        {
          "data": {
            "text/plain": [
              "listing_id            0\n",
              "reviewer_name        63\n",
              "comments             63\n",
              "cleaned_comments    209\n",
              "polarity            163\n",
              "sentiment           163\n",
              "dtype: int64"
            ]
          },
          "execution_count": 5,
          "metadata": {},
          "output_type": "execute_result"
        }
      ],
      "source": [
        "df.isnull().sum()"
      ]
    },
    {
      "cell_type": "code",
      "execution_count": null,
      "metadata": {
        "colab": {
          "base_uri": "https://localhost:8080/"
        },
        "id": "4Xb89JRA-RxY",
        "outputId": "262aa05c-e9b1-4eef-fa59-10fc7ace019e"
      },
      "outputs": [
        {
          "data": {
            "text/plain": [
              "listing_id          0\n",
              "reviewer_name       0\n",
              "comments            0\n",
              "cleaned_comments    0\n",
              "polarity            0\n",
              "sentiment           0\n",
              "dtype: int64"
            ]
          },
          "execution_count": 6,
          "metadata": {},
          "output_type": "execute_result"
        }
      ],
      "source": [
        "# Dropping the null values\n",
        "df.dropna(inplace=True)\n",
        "df.isnull().sum()"
      ]
    },
    {
      "cell_type": "markdown",
      "metadata": {
        "id": "MB8uRRMw-RxZ"
      },
      "source": [
        "## **<center><u>Assessment: Experimentations (using Deep Learning)</u></center>**\n"
      ]
    },
    {
      "cell_type": "code",
      "execution_count": null,
      "metadata": {
        "id": "Fh0SHePe-RxZ"
      },
      "outputs": [],
      "source": [
        "stop_words = set(stopwords.words('english'))\n",
        "\n",
        "def preprocess_text(text):\n",
        "    # Tokenize and remove stop words\n",
        "    tokens = word_tokenize(text)\n",
        "    tokens = [word for word in tokens if word.isalpha()\n",
        "              and word not in stop_words]\n",
        "    return \" \".join(tokens)"
      ]
    },
    {
      "cell_type": "code",
      "execution_count": null,
      "metadata": {
        "id": "t8t8dTYn-Rxa"
      },
      "outputs": [],
      "source": [
        "# Apply preprocessing to cleaned comments\n",
        "df['processed_comments'] = df['cleaned_comments'].apply(preprocess_text)"
      ]
    },
    {
      "cell_type": "code",
      "execution_count": null,
      "metadata": {
        "id": "pgzw2YNZ-Rxa"
      },
      "outputs": [],
      "source": [
        "# Tokenize text\n",
        "tokenizer = Tokenizer(num_words=500, oov_token=\"<OOV>\")\n",
        "tokenizer.fit_on_texts(df['processed_comments'])\n",
        "sequences = tokenizer.texts_to_sequences(df['processed_comments'])"
      ]
    },
    {
      "cell_type": "code",
      "execution_count": null,
      "metadata": {
        "id": "mEOTxT_h-Rxb"
      },
      "outputs": [],
      "source": [
        "# Pad sequences\n",
        "max_length = max(len(x) for x in sequences)\n",
        "padded_sequences = pad_sequences(sequences, maxlen=max_length, padding='post')"
      ]
    },
    {
      "cell_type": "code",
      "execution_count": null,
      "metadata": {
        "id": "Q4HKN3-r-Rxc"
      },
      "outputs": [],
      "source": [
        "# Encode labels\n",
        "labels = pd.get_dummies(df['sentiment']).values"
      ]
    },
    {
      "cell_type": "code",
      "execution_count": null,
      "metadata": {
        "id": "Mt-F2lej-Rxc"
      },
      "outputs": [],
      "source": [
        "# Split the data\n",
        "X_train, X_test, y_train, y_test = train_test_split(\n",
        "    padded_sequences, labels, test_size=0.2, random_state=42)"
      ]
    },
    {
      "cell_type": "code",
      "execution_count": null,
      "metadata": {
        "colab": {
          "base_uri": "https://localhost:8080/"
        },
        "id": "qd27Js1v-Rxd",
        "outputId": "40aea40f-8a51-4092-bae2-f1e8b63f2819"
      },
      "outputs": [
        {
          "name": "stderr",
          "output_type": "stream",
          "text": [
            "WARNING:tensorflow:Layer lstm_1 will not use cuDNN kernels since it doesn't meet the criteria. It will use a generic GPU kernel as fallback when running on GPU.\n"
          ]
        },
        {
          "name": "stdout",
          "output_type": "stream",
          "text": [
            "Model: \"sequential_1\"\n",
            "_________________________________________________________________\n",
            " Layer (type)                Output Shape              Param #   \n",
            "=================================================================\n",
            " embedding_1 (Embedding)     (None, 708, 128)          640000    \n",
            "                                                                 \n",
            " lstm_1 (LSTM)               (None, 64)                49408     \n",
            "                                                                 \n",
            " dense_2 (Dense)             (None, 32)                2080      \n",
            "                                                                 \n",
            " dropout_1 (Dropout)         (None, 32)                0         \n",
            "                                                                 \n",
            " dense_3 (Dense)             (None, 3)                 99        \n",
            "                                                                 \n",
            "=================================================================\n",
            "Total params: 691587 (2.64 MB)\n",
            "Trainable params: 691587 (2.64 MB)\n",
            "Non-trainable params: 0 (0.00 Byte)\n",
            "_________________________________________________________________\n"
          ]
        }
      ],
      "source": [
        "model = Sequential()\n",
        "model.add(Embedding(5000, 128, input_length=max_length))\n",
        "model.add(LSTM(64, dropout=0.2, recurrent_dropout=0.2))\n",
        "model.add(Dense(32, activation='relu'))\n",
        "model.add(Dropout(0.5))\n",
        "model.add(Dense(labels.shape[1], activation='softmax'))\n",
        "\n",
        "model.compile(loss='categorical_crossentropy',\n",
        "              optimizer='adam', metrics=['accuracy'])\n",
        "model.summary()"
      ]
    },
    {
      "cell_type": "code",
      "execution_count": null,
      "metadata": {
        "colab": {
          "base_uri": "https://localhost:8080/"
        },
        "id": "i5aHkSlj-Rxd",
        "outputId": "7ba8c1a5-ee4c-4601-df70-b1997f00ede6"
      },
      "outputs": [
        {
          "name": "stdout",
          "output_type": "stream",
          "text": [
            "Epoch 1/100\n",
            "58/58 [==============================] - 148s 2s/step - loss: 1.0995 - accuracy: 0.3352 - val_loss: 1.0987 - val_accuracy: 0.3411\n",
            "Epoch 2/100\n",
            "58/58 [==============================] - 136s 2s/step - loss: 1.0989 - accuracy: 0.3461 - val_loss: 1.0986 - val_accuracy: 0.3411\n",
            "Epoch 3/100\n",
            "58/58 [==============================] - 139s 2s/step - loss: 1.0986 - accuracy: 0.3419 - val_loss: 1.0988 - val_accuracy: 0.3265\n",
            "Epoch 4/100\n",
            "58/58 [==============================] - 137s 2s/step - loss: 1.0986 - accuracy: 0.3377 - val_loss: 1.0991 - val_accuracy: 0.3265\n",
            "Epoch 5/100\n",
            "58/58 [==============================] - 146s 3s/step - loss: 1.0987 - accuracy: 0.3391 - val_loss: 1.0989 - val_accuracy: 0.3265\n",
            "Epoch 5: early stopping\n"
          ]
        }
      ],
      "source": [
        "early_stopping = EarlyStopping(monitor='val_loss', patience=3, verbose=1)\n",
        "\n",
        "history = model.fit(X_train, y_train, epochs=100, batch_size=128,\n",
        "                    validation_split=0.2, callbacks=[early_stopping])"
      ]
    },
    {
      "cell_type": "code",
      "execution_count": null,
      "metadata": {
        "colab": {
          "base_uri": "https://localhost:8080/"
        },
        "id": "5qgWgtel-Rxe",
        "outputId": "b92cc818-4e18-4547-9934-cf1b118f0fdc"
      },
      "outputs": [
        {
          "name": "stdout",
          "output_type": "stream",
          "text": [
            "73/73 [==============================] - 15s 204ms/step - loss: 1.0988 - accuracy: 0.3272\n",
            "Test Accuracy: 32.71551728248596%\n"
          ]
        }
      ],
      "source": [
        "loss, accuracy = model.evaluate(X_test, y_test)\n",
        "print(f\"Test Accuracy: {accuracy * 100}%\")"
      ]
    }
  ],
  "metadata": {
    "accelerator": "GPU",
    "colab": {
      "gpuType": "T4",
      "provenance": []
    },
    "kernelspec": {
      "display_name": "Python 3",
      "name": "python3"
    },
    "language_info": {
      "codemirror_mode": {
        "name": "ipython",
        "version": 3
      },
      "file_extension": ".py",
      "mimetype": "text/x-python",
      "name": "python",
      "nbconvert_exporter": "python",
      "pygments_lexer": "ipython3",
      "version": "3.8.18"
    }
  },
  "nbformat": 4,
  "nbformat_minor": 0
}
